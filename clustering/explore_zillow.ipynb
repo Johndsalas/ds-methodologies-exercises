{
 "cells": [
  {
   "cell_type": "markdown",
   "metadata": {},
   "source": [
    "Plot all continuous or numeric/ordered variables against each other in scatterplots, or through a pairplot.\n",
    "\n",
    "Plot a correlation matrix heatmap.\n",
    "\n",
    "Plot latitude agains longitude.\n",
    "\n",
    "Create a useable plot with 4 dimensions, e.g. x, y, color, size.\n",
    "\n",
    "Compute the mean(logerror) by zipcode and the overall mean(logerror). Write a loop that will run a t-test between the overall mean and the mean for each zip code. We want to identify the zip codes where the error is significantly higher or lower than the expected error.\n",
    "\n",
    "Is logerror significantly different for properties in LA County vs Orange County vs Ventura County?"
   ]
  },
  {
   "cell_type": "code",
   "execution_count": null,
   "metadata": {},
   "outputs": [],
   "source": []
  },
  {
   "cell_type": "code",
   "execution_count": null,
   "metadata": {},
   "outputs": [],
   "source": [
    "cols=list(trai.select_dtypes('number'))\n",
    "for i,col in enumerate(cols):\n",
    "    sns.jointplot(data=train,x=cols[i],y=cols[i-1])\n",
    "    print(i)\n",
    "    plt.show()"
   ]
  }
 ],
 "metadata": {
  "kernelspec": {
   "display_name": "Python 3",
   "language": "python",
   "name": "python3"
  },
  "language_info": {
   "codemirror_mode": {
    "name": "ipython",
    "version": 3
   },
   "file_extension": ".py",
   "mimetype": "text/x-python",
   "name": "python",
   "nbconvert_exporter": "python",
   "pygments_lexer": "ipython3",
   "version": "3.7.3"
  }
 },
 "nbformat": 4,
 "nbformat_minor": 2
}

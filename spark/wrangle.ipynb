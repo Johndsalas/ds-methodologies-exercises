{
 "cells": [
  {
   "cell_type": "markdown",
   "metadata": {},
   "source": [
    "Read the case, department, and source data into their own spark dataframes.\n",
    "\n",
    "Let's see how writing to the local disk works in spark:\n",
    "\n",
    "Write the code necessary to store the source data in both csv and json format, store these as sources_csv and sources_json\n",
    "\n",
    "Inspect your folder structure. What do you notice?\n",
    "\n",
    "Inspect the data in your dataframes. Are the data types appropriate? Write the code necessary to cast the values to the appropriate types."
   ]
  },
  {
   "cell_type": "code",
   "execution_count": 1,
   "metadata": {},
   "outputs": [],
   "source": [
    "from pyspark.sql import SparkSession\n",
    "from pyspark.sql.functions import *\n",
    "\n",
    "spark = SparkSession.builder.getOrCreate()"
   ]
  },
  {
   "cell_type": "code",
   "execution_count": 35,
   "metadata": {},
   "outputs": [],
   "source": [
    "department = spark.read.csv(\"dept_copy.csv\", sep=\",\", header=True, inferSchema=True)"
   ]
  },
  {
   "cell_type": "code",
   "execution_count": 36,
   "metadata": {},
   "outputs": [
    {
     "data": {
      "text/plain": [
       "['dept_division', 'dept_name', 'standardized_dept_name', 'dept_subject_to_SLA']"
      ]
     },
     "execution_count": 36,
     "metadata": {},
     "output_type": "execute_result"
    }
   ],
   "source": [
    "department.columns"
   ]
  },
  {
   "cell_type": "code",
   "execution_count": 2,
   "metadata": {},
   "outputs": [],
   "source": [
    "source = spark.read.csv(\"source_copy.csv\", sep=\",\", header=True, inferSchema=True)"
   ]
  },
  {
   "cell_type": "code",
   "execution_count": 33,
   "metadata": {},
   "outputs": [
    {
     "data": {
      "text/plain": [
       "['source_id', 'source_username']"
      ]
     },
     "execution_count": 33,
     "metadata": {},
     "output_type": "execute_result"
    }
   ],
   "source": [
    "source"
   ]
  },
  {
   "cell_type": "code",
   "execution_count": 4,
   "metadata": {},
   "outputs": [],
   "source": [
    "case = spark.read.csv(\"case_copy.csv\", sep=\",\", header=True, inferSchema=True)"
   ]
  },
  {
   "cell_type": "code",
   "execution_count": 34,
   "metadata": {},
   "outputs": [
    {
     "data": {
      "text/plain": [
       "['case_id',\n",
       " 'case_opened_date',\n",
       " 'case_closed_date',\n",
       " 'case_due_date',\n",
       " 'case_late',\n",
       " 'num_days_late',\n",
       " 'case_closed',\n",
       " 'dept_division',\n",
       " 'service_request_type',\n",
       " 'SLA_days',\n",
       " 'case_status',\n",
       " 'source_id',\n",
       " 'request_address',\n",
       " 'council_district',\n",
       " 'council_distrtict']"
      ]
     },
     "execution_count": 34,
     "metadata": {},
     "output_type": "execute_result"
    }
   ],
   "source": [
    "case.columns"
   ]
  },
  {
   "cell_type": "code",
   "execution_count": 5,
   "metadata": {},
   "outputs": [
    {
     "name": "stdout",
     "output_type": "stream",
     "text": [
      "+---------+----------------+\n",
      "|source_id| source_username|\n",
      "+---------+----------------+\n",
      "|   100137|Merlene Blodgett|\n",
      "|   103582|     Carmen Cura|\n",
      "|   106463| Richard Sanchez|\n",
      "|   119403|  Betty De Hoyos|\n",
      "|   119555|  Socorro Quiara|\n",
      "+---------+----------------+\n",
      "only showing top 5 rows\n",
      "\n"
     ]
    }
   ],
   "source": [
    "source.show(5)"
   ]
  },
  {
   "cell_type": "code",
   "execution_count": 6,
   "metadata": {},
   "outputs": [],
   "source": [
    "df_source_jason = source.write.json(\"sources_json\", mode=\"overwrite\")"
   ]
  },
  {
   "cell_type": "code",
   "execution_count": 7,
   "metadata": {},
   "outputs": [],
   "source": [
    "df_source_csv = source.write.csv(\"sources_csv\", mode=\"overwrite\")"
   ]
  },
  {
   "cell_type": "code",
   "execution_count": 8,
   "metadata": {},
   "outputs": [
    {
     "data": {
      "text/plain": [
       "[('source_id', 'string'), ('source_username', 'string')]"
      ]
     },
     "execution_count": 8,
     "metadata": {},
     "output_type": "execute_result"
    }
   ],
   "source": [
    "source.dtypes"
   ]
  },
  {
   "cell_type": "code",
   "execution_count": 9,
   "metadata": {},
   "outputs": [
    {
     "data": {
      "text/plain": [
       "[('dept_division', 'string'),\n",
       " ('dept_name', 'string'),\n",
       " ('standardized_dept_name', 'string'),\n",
       " ('dept_subject_to_SLA', 'string')]"
      ]
     },
     "execution_count": 9,
     "metadata": {},
     "output_type": "execute_result"
    }
   ],
   "source": [
    "department.dtypes"
   ]
  },
  {
   "cell_type": "code",
   "execution_count": 10,
   "metadata": {},
   "outputs": [
    {
     "data": {
      "text/plain": [
       "[('case_id', 'int'),\n",
       " ('case_opened_date', 'string'),\n",
       " ('case_closed_date', 'string'),\n",
       " ('SLA_due_date', 'string'),\n",
       " ('case_late', 'string'),\n",
       " ('num_days_late', 'double'),\n",
       " ('case_closed', 'string'),\n",
       " ('dept_division', 'string'),\n",
       " ('service_request_type', 'string'),\n",
       " ('SLA_days', 'double'),\n",
       " ('case_status', 'string'),\n",
       " ('source_id', 'string'),\n",
       " ('request_address', 'string'),\n",
       " ('council_district', 'int')]"
      ]
     },
     "execution_count": 10,
     "metadata": {},
     "output_type": "execute_result"
    }
   ],
   "source": [
    "case.dtypes"
   ]
  },
  {
   "cell_type": "code",
   "execution_count": 11,
   "metadata": {},
   "outputs": [],
   "source": [
    "case = case.withColumn(\"case_closed\", expr('case_closed == \"YES\"')).withColumn(\n",
    "    \"case_late\", expr('case_late == \"YES\"')\n",
    ")"
   ]
  },
  {
   "cell_type": "code",
   "execution_count": 12,
   "metadata": {},
   "outputs": [],
   "source": [
    "case = case.withColumnRenamed(\"SLA_due_date\", \"case_due_date\")"
   ]
  },
  {
   "cell_type": "code",
   "execution_count": 13,
   "metadata": {},
   "outputs": [],
   "source": [
    "fmt = \"M/d/yy H:mm\"\n",
    "\n",
    "case = (\n",
    "    case.withColumn(\"case_opened_date\", to_timestamp(\"case_opened_date\", fmt))\n",
    "    .withColumn(\"case_closed_date\", to_timestamp(\"case_closed_date\", fmt))\n",
    "    .withColumn(\"case_due_date\", to_timestamp(\"case_due_date\", fmt))\n",
    ")"
   ]
  },
  {
   "cell_type": "code",
   "execution_count": 14,
   "metadata": {},
   "outputs": [
    {
     "data": {
      "text/plain": [
       "[('case_id', 'int'),\n",
       " ('case_opened_date', 'timestamp'),\n",
       " ('case_closed_date', 'timestamp'),\n",
       " ('case_due_date', 'timestamp'),\n",
       " ('case_late', 'boolean'),\n",
       " ('num_days_late', 'double'),\n",
       " ('case_closed', 'boolean'),\n",
       " ('dept_division', 'string'),\n",
       " ('service_request_type', 'string'),\n",
       " ('SLA_days', 'double'),\n",
       " ('case_status', 'string'),\n",
       " ('source_id', 'string'),\n",
       " ('request_address', 'string'),\n",
       " ('council_district', 'int')]"
      ]
     },
     "execution_count": 14,
     "metadata": {},
     "output_type": "execute_result"
    }
   ],
   "source": [
    "case.dtypes"
   ]
  },
  {
   "cell_type": "markdown",
   "metadata": {},
   "source": [
    "How old is the latest (in terms of days past SLA) currently open issue? \n",
    "\n",
    "How long has the oldest (in terms of days since opened) currently opened issue been open?\n",
    "\n",
    "How many Stray Animal cases are there?\n",
    "\n",
    "How many service requests that are assigned to the Field Operations department (dept_division) are not classified as \"Officer Standby\" request type (service_request_type)?\n",
    "\n",
    "Convert the council_district column to a string column.\n",
    "\n",
    "Extract the year from the case_closed_date column.\n",
    "Convert num_days_late from days to hours in new columns num_hours_late.\n",
    "\n",
    "Join the case data with the source and department data.\n",
    "\n",
    "Are there any cases that do not have a request source?\n",
    "\n",
    "What are the top 10 service request types in terms of number of requests?\n",
    "\n",
    "What are the top 10 service request types in terms of average days late?\n",
    "Does number of days late depend on department?\n",
    "How do number of days late depend on department and request type?"
   ]
  },
  {
   "cell_type": "code",
   "execution_count": 15,
   "metadata": {},
   "outputs": [],
   "source": [
    "from pyspark.sql.functions import concat, sum, avg, min, max, count, mean"
   ]
  },
  {
   "cell_type": "code",
   "execution_count": 16,
   "metadata": {},
   "outputs": [
    {
     "name": "stdout",
     "output_type": "stream",
     "text": [
      "+-------------+\n",
      "|max(SLA_days)|\n",
      "+-------------+\n",
      "|   1419.00191|\n",
      "+-------------+\n",
      "\n"
     ]
    }
   ],
   "source": [
    "case.filter(case.case_closed== False).select(max(case.SLA_days)).show()"
   ]
  },
  {
   "cell_type": "code",
   "execution_count": 19,
   "metadata": {},
   "outputs": [
    {
     "ename": "TypeError",
     "evalue": "'Column' object is not callable",
     "output_type": "error",
     "traceback": [
      "\u001b[0;31m---------------------------------------------------------------------------\u001b[0m",
      "\u001b[0;31mTypeError\u001b[0m                                 Traceback (most recent call last)",
      "\u001b[0;32m<ipython-input-19-deeee665d8a1>\u001b[0m in \u001b[0;36m<module>\u001b[0;34m\u001b[0m\n\u001b[1;32m      2\u001b[0m             datediff(\n\u001b[1;32m      3\u001b[0m                       \u001b[0mcase\u001b[0m\u001b[0;34m.\u001b[0m\u001b[0mfilter\u001b[0m\u001b[0;34m(\u001b[0m\u001b[0mcase\u001b[0m\u001b[0;34m.\u001b[0m\u001b[0mcase_closed\u001b[0m\u001b[0;34m==\u001b[0m\u001b[0;32mFalse\u001b[0m\u001b[0;34m)\u001b[0m\u001b[0;34m.\u001b[0m\u001b[0mselect\u001b[0m\u001b[0;34m(\u001b[0m\u001b[0mmin\u001b[0m\u001b[0;34m(\u001b[0m\u001b[0mcase\u001b[0m\u001b[0;34m.\u001b[0m\u001b[0mcase_opened_date\u001b[0m\u001b[0;34m)\u001b[0m\u001b[0;34m)\u001b[0m\u001b[0;34m.\u001b[0m\u001b[0mtoPandas\u001b[0m\u001b[0;34m(\u001b[0m\u001b[0;34m)\u001b[0m\u001b[0;34m,\u001b[0m\u001b[0;34m\u001b[0m\u001b[0;34m\u001b[0m\u001b[0m\n\u001b[0;32m----> 4\u001b[0;31m                       \u001b[0mcase\u001b[0m\u001b[0;34m.\u001b[0m\u001b[0mselect\u001b[0m\u001b[0;34m(\u001b[0m\u001b[0mmax\u001b[0m\u001b[0;34m(\u001b[0m\u001b[0mcase\u001b[0m\u001b[0;34m.\u001b[0m\u001b[0mcase_closed_date\u001b[0m\u001b[0;34m)\u001b[0m\u001b[0;34m.\u001b[0m\u001b[0mtoPandas\u001b[0m\u001b[0;34m(\u001b[0m\u001b[0;34m)\u001b[0m\u001b[0;34m)\u001b[0m\u001b[0;34m\u001b[0m\u001b[0;34m\u001b[0m\u001b[0m\n\u001b[0m\u001b[1;32m      5\u001b[0m                     )\n\u001b[1;32m      6\u001b[0m           ).show()\n",
      "\u001b[0;31mTypeError\u001b[0m: 'Column' object is not callable"
     ]
    }
   ],
   "source": [
    "case.select(\n",
    "            datediff(\n",
    "                      case.filter(case.case_closed==False).select(min(case.case_opened_date)),\n",
    "                      case.select(max(case.case_closed_date)\n",
    "                    )\n",
    "          ).show()"
   ]
  },
  {
   "cell_type": "code",
   "execution_count": 53,
   "metadata": {},
   "outputs": [
    {
     "name": "stdout",
     "output_type": "stream",
     "text": [
      "+-------------------+\n",
      "|              date1|\n",
      "+-------------------+\n",
      "|2017-01-01 13:48:00|\n",
      "+-------------------+\n",
      "\n",
      "None\n",
      "+-------------------+\n",
      "|              date2|\n",
      "+-------------------+\n",
      "|2018-08-08 10:38:00|\n",
      "+-------------------+\n",
      "\n",
      "None\n"
     ]
    },
    {
     "data": {
      "text/plain": [
       "Column<b'datediff(2017-01-01, 2018-08-08)'>"
      ]
     },
     "execution_count": 53,
     "metadata": {},
     "output_type": "execute_result"
    }
   ],
   "source": [
    "import pandas as pd\n",
    "\n",
    "#How long has the oldest (in terms of days since opened) currently opened issue been open?\n",
    "start = case.filter(case.case_closed==False).select(min(case.case_opened_date).alias('date1'))\n",
    "end = case.select(max(case.case_closed_date).alias('date2'))\n",
    "\n",
    "\n",
    "print(start.show())\n",
    "print(end.show())\n",
    "\n",
    "datediff(lit('2017-01-01'),lit('2018-08-08'))\n",
    "#pd.todatetime"
   ]
  },
  {
   "cell_type": "code",
   "execution_count": 55,
   "metadata": {},
   "outputs": [
    {
     "data": {
      "text/plain": [
       "Timedelta('-584 days +00:00:00')"
      ]
     },
     "execution_count": 55,
     "metadata": {},
     "output_type": "execute_result"
    }
   ],
   "source": [
    "pd.to_datetime('2017-01-01') - pd.to_datetime('2018-08-08')"
   ]
  },
  {
   "cell_type": "code",
   "execution_count": 42,
   "metadata": {},
   "outputs": [
    {
     "data": {
      "text/plain": [
       "113902"
      ]
     },
     "execution_count": 42,
     "metadata": {},
     "output_type": "execute_result"
    }
   ],
   "source": [
    "# How many service requests that are assigned to the Field Operations department (dept_division) are not classified as \"Officer Standby\" request type (service_request_type)?\n",
    "case.filter(case.dept_division=='Field Operations').filter(case.service_request_type!=\"Officer Standby\").count()"
   ]
  },
  {
   "cell_type": "code",
   "execution_count": 24,
   "metadata": {},
   "outputs": [
    {
     "data": {
      "text/plain": [
       "841704"
      ]
     },
     "execution_count": 24,
     "metadata": {},
     "output_type": "execute_result"
    }
   ],
   "source": [
    "# How many Stray Animal cases are there?\n",
    "case.select(case.service_request_type=='Stray Animal').count()"
   ]
  },
  {
   "cell_type": "markdown",
   "metadata": {},
   "source": [
    "Convert the council_district column to a string column."
   ]
  },
  {
   "cell_type": "code",
   "execution_count": 25,
   "metadata": {},
   "outputs": [],
   "source": [
    "case = case.withColumn('council_distrtict',case.council_district.cast(\"string\"))"
   ]
  },
  {
   "cell_type": "markdown",
   "metadata": {},
   "source": [
    "Extract the year from the case_closed_date column. \n",
    "\n",
    "Convert num_days_late from days to hours in new columns num_hours_late."
   ]
  },
  {
   "cell_type": "code",
   "execution_count": 26,
   "metadata": {},
   "outputs": [
    {
     "name": "stdout",
     "output_type": "stream",
     "text": [
      "+----+\n",
      "|year|\n",
      "+----+\n",
      "|2018|\n",
      "|2018|\n",
      "|2018|\n",
      "|2018|\n",
      "|2018|\n",
      "+----+\n",
      "only showing top 5 rows\n",
      "\n"
     ]
    }
   ],
   "source": [
    "case.select(case.case_closed_date[1:4].alias('year')).show(5)"
   ]
  },
  {
   "cell_type": "code",
   "execution_count": 27,
   "metadata": {},
   "outputs": [
    {
     "name": "stdout",
     "output_type": "stream",
     "text": [
      "+----------+-------------------+-------------------+-------------------+---------+-------------------+-----------+----------------+--------------------+-----------+-----------+---------+--------------------+----------------+-----------------+\n",
      "|   case_id|   case_opened_date|   case_closed_date|      case_due_date|case_late|      num_days_late|case_closed|   dept_division|service_request_type|   SLA_days|case_status|source_id|     request_address|council_district|council_distrtict|\n",
      "+----------+-------------------+-------------------+-------------------+---------+-------------------+-----------+----------------+--------------------+-----------+-----------+---------+--------------------+----------------+-----------------+\n",
      "|1014127332|2018-01-01 00:42:00|2018-01-01 12:29:00|2020-09-26 00:42:00|    false|     -23964.2102784|       true|Field Operations|        Stray Animal|      999.0|     Closed| svcCRMLS|2315  EL PASO ST,...|               5|                5|\n",
      "|1014127333|2018-01-01 00:46:00|2018-01-03 08:11:00|2018-01-05 08:30:00|    false|-48.302500007999996|       true|     Storm Water|Removal Of Obstru...|4.322222222|     Closed| svcCRMSS|2215  GOLIAD RD, ...|               3|                3|\n",
      "|1014127334|2018-01-01 00:48:00|2018-01-02 07:57:00|2018-01-05 08:30:00|    false|      -72.536111112|       true|     Storm Water|Removal Of Obstru...|4.320729167|     Closed| svcCRMSS|102  PALFREY ST W...|               3|                3|\n",
      "|1014127335|2018-01-01 01:29:00|2018-01-02 08:13:00|2018-01-17 08:30:00|    false|      -360.27555552|       true|Code Enforcement|Front Or Side Yar...|16.29188657|     Closed| svcCRMSS|114  LA GARDE ST,...|               3|                3|\n",
      "|1014127336|2018-01-01 01:34:00|2018-01-01 13:29:00|2018-01-01 04:34:00|     true|  8.931944448000001|       true|Field Operations|Animal Cruelty(Cr...|      0.125|     Closed| svcCRMSS|734  CLEARVIEW DR...|               7|                7|\n",
      "+----------+-------------------+-------------------+-------------------+---------+-------------------+-----------+----------------+--------------------+-----------+-----------+---------+--------------------+----------------+-----------------+\n",
      "only showing top 5 rows\n",
      "\n"
     ]
    }
   ],
   "source": [
    "case.withColumn('num_days_late', expr('num_days_late * 24 AS num_hours_late')).show(5)"
   ]
  },
  {
   "cell_type": "code",
   "execution_count": 37,
   "metadata": {},
   "outputs": [],
   "source": [
    "df = (\n",
    "        source\n",
    "        .join(case,\"source_id\",\"left\")\n",
    "        .join(department,\"dept_division\",\"left\")\n",
    "      )"
   ]
  },
  {
   "cell_type": "code",
   "execution_count": 40,
   "metadata": {},
   "outputs": [
    {
     "name": "stdout",
     "output_type": "stream",
     "text": [
      "+----------------+---------+----------------+----------+-------------------+-------------------+-------------------+---------+-------------------+-----------+--------------------+----------+-----------+--------------------+----------------+-----------------+--------------------+----------------------+-------------------+\n",
      "|   dept_division|source_id| source_username|   case_id|   case_opened_date|   case_closed_date|      case_due_date|case_late|      num_days_late|case_closed|service_request_type|  SLA_days|case_status|     request_address|council_district|council_distrtict|           dept_name|standardized_dept_name|dept_subject_to_SLA|\n",
      "+----------------+---------+----------------+----------+-------------------+-------------------+-------------------+---------+-------------------+-----------+--------------------+----------+-----------+--------------------+----------------+-----------------+--------------------+----------------------+-------------------+\n",
      "|Waste Collection|   136202|Michelle Urrutia|1014128056|2018-01-02 08:21:00|2018-01-10 08:39:00|2018-01-05 08:30:00|     true|         5.00681713|       true|Solid Waste Fees ...|3.00619213|     Closed|3214  STONEY FORK...|              10|               10|Solid Waste Manag...|           Solid Waste|                YES|\n",
      "|Waste Collection|   136202|Michelle Urrutia|1014128366|2018-01-02 09:36:00|2018-01-03 13:28:00|2018-01-09 09:36:00|    false| -5.838321758999999|       true|Cart Exchange Req...|       7.0|     Closed|11822  SONG, San ...|               9|                9|Solid Waste Manag...|           Solid Waste|                YES|\n",
      "|Waste Collection|   136202|Michelle Urrutia|1014128555|2018-01-02 10:07:00|2018-01-03 15:29:00|2018-01-05 10:07:00|    false|-1.7764930559999998|       true|           No Pickup|       3.0|     Closed|13703  BLUFF ROCK...|               9|                9|Solid Waste Manag...|           Solid Waste|                YES|\n",
      "|Waste Collection|   136202|Michelle Urrutia|1014128764|2018-01-02 10:45:00|2018-01-08 13:58:00|2018-01-09 10:45:00|    false|       -0.865798611|       true|Cart Exchange Req...|       7.0|     Closed|6270  RIDGEBROOK,...|               6|                6|Solid Waste Manag...|           Solid Waste|                YES|\n",
      "|Waste Collection|   136202|Michelle Urrutia|1014129021|2018-01-02 11:26:00|2018-01-03 14:08:00|2018-01-09 11:26:00|    false|       -5.887905093|       true|Cart Exchange Req...|       7.0|     Closed|135  MAGNOLIA DR,...|               1|                1|Solid Waste Manag...|           Solid Waste|                YES|\n",
      "+----------------+---------+----------------+----------+-------------------+-------------------+-------------------+---------+-------------------+-----------+--------------------+----------+-----------+--------------------+----------------+-----------------+--------------------+----------------------+-------------------+\n",
      "only showing top 5 rows\n",
      "\n"
     ]
    }
   ],
   "source": [
    "df.show(5)"
   ]
  },
  {
   "cell_type": "code",
   "execution_count": 64,
   "metadata": {},
   "outputs": [
    {
     "name": "stdout",
     "output_type": "stream",
     "text": [
      "+--------------------+-----+\n",
      "|     request_address|count|\n",
      "+--------------------+-----+\n",
      "|1300  MARTIN LUTH...|    1|\n",
      "|6458  VILLAGE PAR...|    1|\n",
      "|FLOWER MEADOW and...|    1|\n",
      "|6234  WELLES BROO...|    1|\n",
      "|9106  WUTHERING H...|    1|\n",
      "+--------------------+-----+\n",
      "only showing top 5 rows\n",
      "\n"
     ]
    }
   ],
   "source": [
    "df.groupby(df.request_address).count().orderBy('count').show(5)"
   ]
  },
  {
   "cell_type": "markdown",
   "metadata": {},
   "source": [
    "What are the top 10 service request types in terms of number of requests?\n",
    "\n",
    "What are the top 10 service request types in terms of average days late? Does number of days late depend on department? \n",
    "\n",
    "How do number of days late depend on department and request type?"
   ]
  },
  {
   "cell_type": "code",
   "execution_count": 73,
   "metadata": {},
   "outputs": [
    {
     "name": "stdout",
     "output_type": "stream",
     "text": [
      "+--------------------+-----+\n",
      "|service_request_type|count|\n",
      "+--------------------+-----+\n",
      "|           No Pickup|89210|\n",
      "|Overgrown Yard/Trash|66403|\n",
      "|        Bandit Signs|32968|\n",
      "|        Damaged Cart|31163|\n",
      "|Front Or Side Yar...|28920|\n",
      "|        Stray Animal|27361|\n",
      "|Aggressive Animal...|25492|\n",
      "|Cart Exchange Req...|22608|\n",
      "|Junk Vehicle On P...|21649|\n",
      "|     Pot Hole Repair|20827|\n",
      "+--------------------+-----+\n",
      "only showing top 10 rows\n",
      "\n"
     ]
    }
   ],
   "source": [
    "df.groupby(df.service_request_type).count().orderBy('count',ascending=False).show(10)"
   ]
  },
  {
   "cell_type": "markdown",
   "metadata": {},
   "source": [
    "What are the top 10 service request types in terms of average days late"
   ]
  },
  {
   "cell_type": "code",
   "execution_count": 89,
   "metadata": {},
   "outputs": [
    {
     "name": "stdout",
     "output_type": "stream",
     "text": [
      "+--------------------------------------+------------------+\n",
      "|service_request_type                  |avg(num_days_late)|\n",
      "+--------------------------------------+------------------+\n",
      "|Zoning: Junk Yards                    |175.95636210420932|\n",
      "|Labeling for Used Mattress            |162.43032902285717|\n",
      "|Record Keeping of Used Mattresses     |153.99724039428568|\n",
      "|Signage Requied for Sale of Used Mattr|151.63868055333333|\n",
      "|Storage of Used Mattress              |142.11255641500003|\n",
      "|Zoning: Recycle Yard                  |135.9285161247979 |\n",
      "|Donation Container Enforcement        |131.75610506358709|\n",
      "|License Requied Used Mattress Sales   |128.79828704142858|\n",
      "|Traffic Signal Graffiti               |101.79846062200002|\n",
      "|Complaint                             |72.87050230311695 |\n",
      "+--------------------------------------+------------------+\n",
      "only showing top 10 rows\n",
      "\n"
     ]
    }
   ],
   "source": [
    "df.groupby(df.service_request_type).agg(avg('num_days_late')).orderBy('avg(num_days_late)',ascending=False).show(10,truncate=False)"
   ]
  },
  {
   "cell_type": "code",
   "execution_count": 94,
   "metadata": {},
   "outputs": [
    {
     "name": "stdout",
     "output_type": "stream",
     "text": [
      "+-------------------------+--------------------------------------+------------------+\n",
      "|dept_name                |service_request_type                  |avg(num_days_late)|\n",
      "+-------------------------+--------------------------------------+------------------+\n",
      "|Code Enforcement Services|Zoning: Junk Yards                    |175.95636210420932|\n",
      "|Code Enforcement Services|Labeling for Used Mattress            |162.43032902285717|\n",
      "|Code Enforcement Services|Record Keeping of Used Mattresses     |153.99724039428568|\n",
      "|Code Enforcement Services|Signage Requied for Sale of Used Mattr|151.63868055333333|\n",
      "|Code Enforcement Services|Storage of Used Mattress              |142.11255641500003|\n",
      "|null                     |Zoning: Recycle Yard                  |135.9285161247979 |\n",
      "|Code Enforcement Services|Donation Container Enforcement        |131.75610506358709|\n",
      "|Code Enforcement Services|License Requied Used Mattress Sales   |128.79828704142858|\n",
      "|Trans & Cap Improvements |Traffic Signal Graffiti               |101.79846062200002|\n",
      "|Customer Service         |Complaint                             |72.87050230311695 |\n",
      "|Code Enforcement Services|Vendors                               |66.54809898507801 |\n",
      "|Parks and Recreation     |Reservation Assistance                |66.03116319       |\n",
      "|Code Enforcement Services|No Address Posted                     |59.87564073362591 |\n",
      "|Code Enforcement Services|Curbstoning                           |59.808628977605274|\n",
      "|Solid Waste Management   |Contracted Service Issues             |56.72045236025    |\n",
      "|Trans & Cap Improvements |Status: On-Going CIMS Projects        |37.57064670295009 |\n",
      "|Code Enforcement Services|Historical Building (No Permits)      |31.567148565454545|\n",
      "|Code Enforcement Services|Used Mattress Inspection              |30.168053900795922|\n",
      "|Solid Waste Management   |Service Information                   |29.177355749054875|\n",
      "|Parks and Recreation     |Park Building Maint Invest            |24.322320840895838|\n",
      "+-------------------------+--------------------------------------+------------------+\n",
      "only showing top 20 rows\n",
      "\n"
     ]
    }
   ],
   "source": [
    "df.groupby(df.dept_name,df.service_request_type).agg(avg('num_days_late')).orderBy('avg(num_days_late)',ascending=False).show(truncate=False)"
   ]
  },
  {
   "cell_type": "code",
   "execution_count": null,
   "metadata": {},
   "outputs": [],
   "source": []
  }
 ],
 "metadata": {
  "kernelspec": {
   "display_name": "Python 3",
   "language": "python",
   "name": "python3"
  },
  "language_info": {
   "codemirror_mode": {
    "name": "ipython",
    "version": 3
   },
   "file_extension": ".py",
   "mimetype": "text/x-python",
   "name": "python",
   "nbconvert_exporter": "python",
   "pygments_lexer": "ipython3",
   "version": "3.7.3"
  }
 },
 "nbformat": 4,
 "nbformat_minor": 2
}

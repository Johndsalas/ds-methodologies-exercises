{
 "cells": [
  {
   "cell_type": "markdown",
   "metadata": {},
   "source": [
    "Create a spark data frame that contains your favorite programming languages.\n",
    "\n",
    "The name of the column should be language\n",
    "\n",
    "View the schema of the dataframe\n",
    "\n",
    "Output the shape of the dataframe\n",
    "\n",
    "Show the first 5 records in the dataframe\n",
    "\n",
    "Load the mpg dataset as a spark dataframe.\n",
    "\n",
    "Create 1 column of output that contains a message like the one below:\n",
    "\n",
    "\n",
    "The 1999 audi a4 has a 4 cylinder engine.\n",
    "For each vehicle.\n",
    "\n",
    "Transform the trans column so that it only contains either manual or auto.\n",
    "\n",
    "Load the tips dataset as a spark dataframe.\n",
    "\n",
    "What percentage of observations are smokers?\n",
    "\n",
    "Create a column that contains the tip percentage\n",
    "\n",
    "Calculate the average tip percentage for each combination of sex and smoker.\n",
    "\n",
    "Use the seattle weather dataset referenced in the lesson to answer the questions below.\n",
    "\n",
    "Convert the temperatures to farenheight.\n",
    "\n",
    "Which month has the most rain, on average?\n",
    "\n",
    "Which year was the windiest?\n",
    "\n",
    "What is the most frequent type of weather in January?\n",
    "\n",
    "What is the average high and low tempurature on sunny days in July in 2013 and 2014?\n",
    "\n",
    "What percentage of days were rainy in q3 of 2015?\n",
    "For each year, find what percentage of days it rained (had non-zero precipitation)."
   ]
  },
  {
   "cell_type": "code",
   "execution_count": 1,
   "metadata": {},
   "outputs": [],
   "source": [
    "import pyspark\n",
    "import pandas as pd\n",
    "import numpy as np\n",
    "import pyspark.sql.functions as F\n",
    "\n",
    "spark = pyspark.sql.SparkSession.builder.getOrCreate()"
   ]
  },
  {
   "cell_type": "code",
   "execution_count": 2,
   "metadata": {},
   "outputs": [],
   "source": [
    "data=['Python','R','Java','C++','C#']\n",
    "df = pd.DataFrame(data, columns = ['language'])"
   ]
  },
  {
   "cell_type": "code",
   "execution_count": 3,
   "metadata": {},
   "outputs": [],
   "source": [
    "df = spark.createDataFrame(df)"
   ]
  },
  {
   "cell_type": "code",
   "execution_count": 4,
   "metadata": {},
   "outputs": [
    {
     "name": "stdout",
     "output_type": "stream",
     "text": [
      "root\n",
      " |-- language: string (nullable = true)\n",
      "\n"
     ]
    }
   ],
   "source": [
    "df.printSchema()"
   ]
  },
  {
   "cell_type": "code",
   "execution_count": 5,
   "metadata": {},
   "outputs": [
    {
     "name": "stdout",
     "output_type": "stream",
     "text": [
      "(5, 1)\n"
     ]
    }
   ],
   "source": [
    "print((df.count(), len(df.columns)))"
   ]
  },
  {
   "cell_type": "code",
   "execution_count": 6,
   "metadata": {},
   "outputs": [
    {
     "name": "stdout",
     "output_type": "stream",
     "text": [
      "+--------+\n",
      "|language|\n",
      "+--------+\n",
      "|  Python|\n",
      "|       R|\n",
      "|    Java|\n",
      "|     C++|\n",
      "|      C#|\n",
      "+--------+\n",
      "\n"
     ]
    }
   ],
   "source": [
    "df.show(5)"
   ]
  },
  {
   "cell_type": "markdown",
   "metadata": {},
   "source": [
    "Load the mpg dataset as a spark dataframe.\n",
    "\n",
    "Create 1 column of output that contains a message like the one below:\n",
    "The 1999 audi a4 has a 4 cylinder engine. For each vehicle.\n",
    "\n",
    "Transform the trans column so that it only contains either manual or \n",
    "auto."
   ]
  },
  {
   "cell_type": "code",
   "execution_count": 7,
   "metadata": {},
   "outputs": [
    {
     "name": "stdout",
     "output_type": "stream",
     "text": [
      "+------------+-----+-----+----+---+----------+---+---+---+---+-------+\n",
      "|manufacturer|model|displ|year|cyl|     trans|drv|cty|hwy| fl|  class|\n",
      "+------------+-----+-----+----+---+----------+---+---+---+---+-------+\n",
      "|        audi|   a4|  1.8|1999|  4|  auto(l5)|  f| 18| 29|  p|compact|\n",
      "|        audi|   a4|  1.8|1999|  4|manual(m5)|  f| 21| 29|  p|compact|\n",
      "|        audi|   a4|  2.0|2008|  4|manual(m6)|  f| 20| 31|  p|compact|\n",
      "|        audi|   a4|  2.0|2008|  4|  auto(av)|  f| 21| 30|  p|compact|\n",
      "|        audi|   a4|  2.8|1999|  6|  auto(l5)|  f| 16| 26|  p|compact|\n",
      "+------------+-----+-----+----+---+----------+---+---+---+---+-------+\n",
      "only showing top 5 rows\n",
      "\n"
     ]
    }
   ],
   "source": [
    "from pydataset import data\n",
    "\n",
    "mpg = spark.createDataFrame(data(\"mpg\"))\n",
    "mpg.show(5)"
   ]
  },
  {
   "cell_type": "code",
   "execution_count": 8,
   "metadata": {},
   "outputs": [
    {
     "name": "stdout",
     "output_type": "stream",
     "text": [
      "+------------------------------------------------------------------------------+\n",
      "|concat(The , year,  , manufacturer,  , model,  has a , cyl,  cylinder engine.)|\n",
      "+------------------------------------------------------------------------------+\n",
      "|The 1999 audi a4 has a 4 cylinder engine.                                     |\n",
      "|The 1999 audi a4 has a 4 cylinder engine.                                     |\n",
      "|The 2008 audi a4 has a 4 cylinder engine.                                     |\n",
      "|The 2008 audi a4 has a 4 cylinder engine.                                     |\n",
      "|The 1999 audi a4 has a 6 cylinder engine.                                     |\n",
      "|The 1999 audi a4 has a 6 cylinder engine.                                     |\n",
      "|The 2008 audi a4 has a 6 cylinder engine.                                     |\n",
      "|The 1999 audi a4 quattro has a 4 cylinder engine.                             |\n",
      "|The 1999 audi a4 quattro has a 4 cylinder engine.                             |\n",
      "|The 2008 audi a4 quattro has a 4 cylinder engine.                             |\n",
      "+------------------------------------------------------------------------------+\n",
      "only showing top 10 rows\n",
      "\n"
     ]
    }
   ],
   "source": [
    "mpg.select(F.concat(F.lit('The '),mpg.year,F.lit(' '),mpg.manufacturer,F.lit(' '),mpg.model,F.lit(' has a '),mpg.cyl,F.lit(' cylinder engine.'))).show(10,truncate=False)"
   ]
  },
  {
   "cell_type": "code",
   "execution_count": 9,
   "metadata": {},
   "outputs": [
    {
     "name": "stdout",
     "output_type": "stream",
     "text": [
      "+------+\n",
      "| trans|\n",
      "+------+\n",
      "|  auto|\n",
      "|manual|\n",
      "|manual|\n",
      "|  auto|\n",
      "|  auto|\n",
      "+------+\n",
      "only showing top 5 rows\n",
      "\n"
     ]
    }
   ],
   "source": [
    "from pyspark.sql.functions import when\n",
    "\n",
    "mpg.select(when(mpg.trans[1:4]=='auto', 'auto').otherwise('manual').alias('trans')).show(5)"
   ]
  },
  {
   "cell_type": "markdown",
   "metadata": {},
   "source": [
    "Load the tips dataset as a spark dataframe.\n",
    "\n",
    "What percentage of observations are smokers?\n",
    "\n",
    "Create a column that contains the tip percentage\n",
    "\n",
    "Calculate the average tip percentage for each combination of sex and smoker."
   ]
  },
  {
   "cell_type": "code",
   "execution_count": 10,
   "metadata": {},
   "outputs": [],
   "source": [
    "from pyspark.sql.functions import concat, sum, avg, min, max, count, mean"
   ]
  },
  {
   "cell_type": "code",
   "execution_count": 11,
   "metadata": {},
   "outputs": [
    {
     "name": "stdout",
     "output_type": "stream",
     "text": [
      "+----------+----+------+------+---+------+----+\n",
      "|total_bill| tip|   sex|smoker|day|  time|size|\n",
      "+----------+----+------+------+---+------+----+\n",
      "|     16.99|1.01|Female|    No|Sun|Dinner|   2|\n",
      "|     10.34|1.66|  Male|    No|Sun|Dinner|   3|\n",
      "|     21.01| 3.5|  Male|    No|Sun|Dinner|   3|\n",
      "|     23.68|3.31|  Male|    No|Sun|Dinner|   2|\n",
      "|     24.59|3.61|Female|    No|Sun|Dinner|   4|\n",
      "|     25.29|4.71|  Male|    No|Sun|Dinner|   4|\n",
      "|      8.77| 2.0|  Male|    No|Sun|Dinner|   2|\n",
      "|     26.88|3.12|  Male|    No|Sun|Dinner|   4|\n",
      "|     15.04|1.96|  Male|    No|Sun|Dinner|   2|\n",
      "|     14.78|3.23|  Male|    No|Sun|Dinner|   2|\n",
      "|     10.27|1.71|  Male|    No|Sun|Dinner|   2|\n",
      "|     35.26| 5.0|Female|    No|Sun|Dinner|   4|\n",
      "|     15.42|1.57|  Male|    No|Sun|Dinner|   2|\n",
      "|     18.43| 3.0|  Male|    No|Sun|Dinner|   4|\n",
      "|     14.83|3.02|Female|    No|Sun|Dinner|   2|\n",
      "|     21.58|3.92|  Male|    No|Sun|Dinner|   2|\n",
      "|     10.33|1.67|Female|    No|Sun|Dinner|   3|\n",
      "|     16.29|3.71|  Male|    No|Sun|Dinner|   3|\n",
      "|     16.97| 3.5|Female|    No|Sun|Dinner|   3|\n",
      "|     20.65|3.35|  Male|    No|Sat|Dinner|   3|\n",
      "+----------+----+------+------+---+------+----+\n",
      "only showing top 20 rows\n",
      "\n"
     ]
    }
   ],
   "source": [
    "tips = spark.createDataFrame(data(\"tips\"))\n",
    "tips.show()"
   ]
  },
  {
   "cell_type": "code",
   "execution_count": 12,
   "metadata": {},
   "outputs": [
    {
     "name": "stdout",
     "output_type": "stream",
     "text": [
      "(244, 7)\n"
     ]
    }
   ],
   "source": [
    "print((tips.count(), len(tips.columns)))"
   ]
  },
  {
   "cell_type": "code",
   "execution_count": 13,
   "metadata": {},
   "outputs": [
    {
     "name": "stdout",
     "output_type": "stream",
     "text": [
      "root\n",
      " |-- total_bill: double (nullable = true)\n",
      " |-- tip: double (nullable = true)\n",
      " |-- sex: string (nullable = true)\n",
      " |-- smoker: string (nullable = true)\n",
      " |-- day: string (nullable = true)\n",
      " |-- time: string (nullable = true)\n",
      " |-- size: long (nullable = true)\n",
      "\n"
     ]
    }
   ],
   "source": [
    "tips.printSchema()"
   ]
  },
  {
   "cell_type": "code",
   "execution_count": 14,
   "metadata": {},
   "outputs": [
    {
     "data": {
      "text/plain": [
       "0.38114754098360654"
      ]
     },
     "execution_count": 14,
     "metadata": {},
     "output_type": "execute_result"
    }
   ],
   "source": [
    "tips.filter(tips.smoker=='Yes').count() / tips.count()"
   ]
  },
  {
   "cell_type": "code",
   "execution_count": 34,
   "metadata": {},
   "outputs": [
    {
     "name": "stdout",
     "output_type": "stream",
     "text": [
      "+-------------------+\n",
      "|     tip_percentage|\n",
      "+-------------------+\n",
      "|0.05944673337257211|\n",
      "|0.16054158607350097|\n",
      "|0.16658733936220846|\n",
      "| 0.1397804054054054|\n",
      "|0.14680764538430255|\n",
      "|0.18623962040332148|\n",
      "|0.22805017103762829|\n",
      "|0.11607142857142858|\n",
      "|0.13031914893617022|\n",
      "| 0.2185385656292287|\n",
      "+-------------------+\n",
      "only showing top 10 rows\n",
      "\n"
     ]
    }
   ],
   "source": [
    "tips.select((tips.tip / tips.total_bill).alias('tip_percentage')).show(10)"
   ]
  },
  {
   "cell_type": "code",
   "execution_count": 16,
   "metadata": {},
   "outputs": [
    {
     "name": "stdout",
     "output_type": "stream",
     "text": [
      "+------+------+-----------------+\n",
      "|   sex|smoker|         avg(tip)|\n",
      "+------+------+-----------------+\n",
      "|  Male|    No| 3.11340206185567|\n",
      "|  Male|   Yes|3.051166666666667|\n",
      "|Female|    No|2.773518518518518|\n",
      "|Female|   Yes|2.931515151515151|\n",
      "+------+------+-----------------+\n",
      "\n"
     ]
    }
   ],
   "source": [
    "tips.groupby(tips.sex, tips.smoker).agg(avg('tip')).show()"
   ]
  },
  {
   "cell_type": "markdown",
   "metadata": {},
   "source": [
    "Use the seattle weather dataset referenced in the lesson to answer the questions below.\n",
    "\n",
    "Convert the temperatures to farenheight.\n",
    "\n",
    "Which month has the most rain, on average?\n",
    "\n",
    "Which year was the windiest?\n",
    "\n",
    "What is the most frequent type of weather in January?\n",
    "\n",
    "What is the average high and low tempurature on sunny days in July in 2013 and 2014?\n",
    "\n",
    "What percentage of days were rainy in q3 of 2015? For each year, find what percentage of days it rained (had non-zero precipitation)."
   ]
  },
  {
   "cell_type": "code",
   "execution_count": 17,
   "metadata": {},
   "outputs": [
    {
     "name": "stdout",
     "output_type": "stream",
     "text": [
      "+----------+-------------+--------+--------+----+-------+\n",
      "|      date|precipitation|temp_max|temp_min|wind|weather|\n",
      "+----------+-------------+--------+--------+----+-------+\n",
      "|2012-01-01|          0.0|    12.8|     5.0| 4.7|drizzle|\n",
      "|2012-01-02|         10.9|    10.6|     2.8| 4.5|   rain|\n",
      "|2012-01-03|          0.8|    11.7|     7.2| 2.3|   rain|\n",
      "|2012-01-04|         20.3|    12.2|     5.6| 4.7|   rain|\n",
      "|2012-01-05|          1.3|     8.9|     2.8| 6.1|   rain|\n",
      "|2012-01-06|          2.5|     4.4|     2.2| 2.2|   rain|\n",
      "+----------+-------------+--------+--------+----+-------+\n",
      "only showing top 6 rows\n",
      "\n"
     ]
    }
   ],
   "source": [
    "from vega_datasets import data\n",
    "\n",
    "weather = data.seattle_weather().assign(date=lambda df: df.date.astype(str))\n",
    "df = spark.createDataFrame(weather)\n",
    "df.show(6)"
   ]
  },
  {
   "cell_type": "code",
   "execution_count": 33,
   "metadata": {},
   "outputs": [
    {
     "name": "stdout",
     "output_type": "stream",
     "text": [
      "+--------------+--------------+\n",
      "|fahrenheit_max|fahrenheit_min|\n",
      "+--------------+--------------+\n",
      "|         55.04|          41.0|\n",
      "|         51.08|         37.04|\n",
      "|         53.06|         44.96|\n",
      "|         53.96|         42.08|\n",
      "|         48.02|         37.04|\n",
      "+--------------+--------------+\n",
      "only showing top 5 rows\n",
      "\n"
     ]
    }
   ],
   "source": [
    "df.select((df.temp_max * 9 / 5 + 32).alias('fahrenheit_max'),(df.temp_min* 9 / 5 + 32).alias('fahrenheit_min')).show(5)"
   ]
  },
  {
   "cell_type": "code",
   "execution_count": 19,
   "metadata": {},
   "outputs": [],
   "source": [
    "f_max = df.select(df.date,df.temp_max * 9 / 5 + 32).alias('fahrenheit_max')"
   ]
  },
  {
   "cell_type": "code",
   "execution_count": 20,
   "metadata": {},
   "outputs": [],
   "source": [
    "f_min = df.select(df.date,df.temp_max * 9 / 5 + 32).alias('fahrenheit_min')"
   ]
  },
  {
   "cell_type": "code",
   "execution_count": 21,
   "metadata": {},
   "outputs": [
    {
     "name": "stdout",
     "output_type": "stream",
     "text": [
      "+---------------------+------------------+\n",
      "|substring(date, 0, 4)|         avg(wind)|\n",
      "+---------------------+------------------+\n",
      "|                 2012| 3.400819672131148|\n",
      "|                 2014| 3.387671232876714|\n",
      "|                 2013|3.0158904109589058|\n",
      "|                 2015| 3.159726027397261|\n",
      "+---------------------+------------------+\n",
      "\n"
     ]
    }
   ],
   "source": [
    "df.groupby(df.date[0:4]).agg(avg('wind')).show()"
   ]
  },
  {
   "cell_type": "code",
   "execution_count": 22,
   "metadata": {},
   "outputs": [
    {
     "name": "stdout",
     "output_type": "stream",
     "text": [
      "+---------------------+-------------------+\n",
      "|substring(date, 6, 2)| avg(precipitation)|\n",
      "+---------------------+-------------------+\n",
      "|                   07|0.38870967741935486|\n",
      "|                   11|  5.354166666666667|\n",
      "|                   01| 3.7580645161290316|\n",
      "|                   09| 1.9624999999999997|\n",
      "|                   05| 1.6733870967741935|\n",
      "|                   08| 1.3201612903225806|\n",
      "|                   03|  4.888709677419355|\n",
      "|                   02|  3.734513274336283|\n",
      "|                   06| 1.1075000000000002|\n",
      "|                   10|  4.059677419354839|\n",
      "|                   12|  5.021774193548389|\n",
      "|                   04|  3.128333333333333|\n",
      "+---------------------+-------------------+\n",
      "\n"
     ]
    }
   ],
   "source": [
    "df.groupby(df.date[6:2]).agg(avg('precipitation')).show()"
   ]
  },
  {
   "cell_type": "code",
   "execution_count": 23,
   "metadata": {},
   "outputs": [
    {
     "name": "stdout",
     "output_type": "stream",
     "text": [
      "+-------+-----+\n",
      "|weather|count|\n",
      "+-------+-----+\n",
      "|    fog|   38|\n",
      "|drizzle|   10|\n",
      "|   rain|   35|\n",
      "|    sun|   33|\n",
      "|   snow|    8|\n",
      "+-------+-----+\n",
      "\n"
     ]
    }
   ],
   "source": [
    "df2 = df.select(df.weather).where(df.date[6:2]=='01')\n",
    "df2.groupBy('weather').count().show()"
   ]
  },
  {
   "cell_type": "markdown",
   "metadata": {},
   "source": [
    "What is the average high and low tempurature on sunny days in July in 2013 and 2014?"
   ]
  },
  {
   "cell_type": "code",
   "execution_count": 24,
   "metadata": {},
   "outputs": [
    {
     "name": "stdout",
     "output_type": "stream",
     "text": [
      "+-----------------+\n",
      "|    avg(temp_min)|\n",
      "+-----------------+\n",
      "|14.18269230769231|\n",
      "+-----------------+\n",
      "\n"
     ]
    }
   ],
   "source": [
    "df.filter((df.weather=='sun') & (df.date[6:2]=='07') & ((df.date[0:4]=='2013') | (df.date[0:4]=='2014'))).agg(avg(df.temp_min)).show()"
   ]
  },
  {
   "cell_type": "code",
   "execution_count": 25,
   "metadata": {},
   "outputs": [
    {
     "name": "stdout",
     "output_type": "stream",
     "text": [
      "+------------------+\n",
      "|     avg(temp_max)|\n",
      "+------------------+\n",
      "|26.828846153846158|\n",
      "+------------------+\n",
      "\n"
     ]
    }
   ],
   "source": [
    "df.filter((df.weather=='sun') & (df.date[6:2]=='07') & ((df.date[0:4]=='2013') | (df.date[0:4]=='2014'))).agg(avg(df.temp_max)).show()"
   ]
  },
  {
   "cell_type": "markdown",
   "metadata": {},
   "source": [
    "What percentage of days were rainy in q3 of 2015? \n",
    "\n",
    "7,8,9\n",
    "\n",
    "For each year, find what percentage of days it rained (had non-zero precipitation)."
   ]
  },
  {
   "cell_type": "code",
   "execution_count": 35,
   "metadata": {},
   "outputs": [
    {
     "data": {
      "text/plain": [
       "0.18478260869565216"
      ]
     },
     "execution_count": 35,
     "metadata": {},
     "output_type": "execute_result"
    }
   ],
   "source": [
    "df.filter(df.date[0:4]=='2015').filter((df.date[6:2] > 6) & (df.date[6:2] < 10)).filter(df.precipitation > 0).count() / df.filter(df.date[0:4]=='2015').filter((df.date[6:2] > 6) & (df.date[6:2] < 10)).count()"
   ]
  },
  {
   "cell_type": "code",
   "execution_count": 27,
   "metadata": {},
   "outputs": [
    {
     "name": "stdout",
     "output_type": "stream",
     "text": [
      "+---------------------+-----+\n",
      "|substring(date, 0, 4)|count|\n",
      "+---------------------+-----+\n",
      "|                 2012|  366|\n",
      "|                 2014|  365|\n",
      "|                 2013|  365|\n",
      "|                 2015|  365|\n",
      "+---------------------+-----+\n",
      "\n"
     ]
    }
   ],
   "source": [
    "df.groupby(df.date[0:4]).count().show()"
   ]
  },
  {
   "cell_type": "code",
   "execution_count": 37,
   "metadata": {},
   "outputs": [
    {
     "data": {
      "text/plain": [
       "0.48360655737704916"
      ]
     },
     "execution_count": 37,
     "metadata": {},
     "output_type": "execute_result"
    }
   ],
   "source": [
    "df.filter(df.date[0:4]==2012).where(df.precipitation > 0).count() / df.filter(df.date[0:4]==2012).count()"
   ]
  },
  {
   "cell_type": "code",
   "execution_count": 38,
   "metadata": {},
   "outputs": [
    {
     "data": {
      "text/plain": [
       "0.41530054644808745"
      ]
     },
     "execution_count": 38,
     "metadata": {},
     "output_type": "execute_result"
    }
   ],
   "source": [
    "df.filter(df.date[0:4]==2013).where(df.precipitation > 0).count() / df.filter(df.date[0:4]==2012).count()"
   ]
  },
  {
   "cell_type": "code",
   "execution_count": 39,
   "metadata": {},
   "outputs": [
    {
     "data": {
      "text/plain": [
       "0.4098360655737705"
      ]
     },
     "execution_count": 39,
     "metadata": {},
     "output_type": "execute_result"
    }
   ],
   "source": [
    "df.filter(df.date[0:4]==2014).where(df.precipitation > 0).count() / df.filter(df.date[0:4]==2012).count()"
   ]
  },
  {
   "cell_type": "code",
   "execution_count": 40,
   "metadata": {},
   "outputs": [
    {
     "data": {
      "text/plain": [
       "0.39344262295081966"
      ]
     },
     "execution_count": 40,
     "metadata": {},
     "output_type": "execute_result"
    }
   ],
   "source": [
    "df.filter(df.date[0:4]==2015).where(df.precipitation > 0).count() / df.filter(df.date[0:4]==2012).count()"
   ]
  }
 ],
 "metadata": {
  "kernelspec": {
   "display_name": "Python 3",
   "language": "python",
   "name": "python3"
  },
  "language_info": {
   "codemirror_mode": {
    "name": "ipython",
    "version": 3
   },
   "file_extension": ".py",
   "mimetype": "text/x-python",
   "name": "python",
   "nbconvert_exporter": "python",
   "pygments_lexer": "ipython3",
   "version": "3.7.3"
  }
 },
 "nbformat": 4,
 "nbformat_minor": 2
}

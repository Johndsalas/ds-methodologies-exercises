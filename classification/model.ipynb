{
 "cells": [
  {
   "cell_type": "markdown",
   "metadata": {},
   "source": [
    "1 Fit the logistic regression classifier to your training sample and transform, \n",
    "i.e. make predictions on the training sample\n",
    "\n",
    "2 Evaluate your in-sample results using the model score, confusion matrix, and classification report.\n",
    "\n",
    "3 Print and clearly label the following: Accuracy, true positive rate, false positive rate, true negative rate, \n",
    "false negative rate, precision, recall, f1-score, and support.\n",
    "\n",
    "4 Look in the scikit-learn documentation to research the solver parameter. \n",
    "What is your best option(s) for the particular problem you are trying to solve and the data to be used?\n",
    "\n",
    "5 Run through steps 2-4 using another solver (from question 5)\n",
    "Which performs better on your in-sample data?"
   ]
  },
  {
   "cell_type": "code",
   "execution_count": 1,
   "metadata": {},
   "outputs": [],
   "source": [
    "#plotting imports\n",
    "%matplotlib inline\n",
    "import matplotlib.pyplot as plt\n",
    "import seaborn as sns\n",
    "\n",
    "# ignore warnings\n",
    "import warnings\n",
    "warnings.filterwarnings(\"ignore\")\n",
    "\n",
    "\n",
    "#modeling imports\n",
    "from sklearn.model_selection import train_test_split\n",
    "from sklearn.linear_model import LogisticRegression\n",
    "from sklearn.metrics import classification_report\n",
    "from sklearn.metrics import confusion_matrix\n",
    "\n",
    "from acquire import get_iris_data\n",
    "from prepare import prep_iris"
   ]
  },
  {
   "cell_type": "code",
   "execution_count": 2,
   "metadata": {},
   "outputs": [],
   "source": [
    "#1 Fit the logistic regression classifier to your training sample and transform, \n",
    "#i.e. make predictions on the training sample"
   ]
  },
  {
   "cell_type": "code",
   "execution_count": 3,
   "metadata": {},
   "outputs": [
    {
     "data": {
      "text/html": [
       "<div>\n",
       "<style scoped>\n",
       "    .dataframe tbody tr th:only-of-type {\n",
       "        vertical-align: middle;\n",
       "    }\n",
       "\n",
       "    .dataframe tbody tr th {\n",
       "        vertical-align: top;\n",
       "    }\n",
       "\n",
       "    .dataframe thead th {\n",
       "        text-align: right;\n",
       "    }\n",
       "</style>\n",
       "<table border=\"1\" class=\"dataframe\">\n",
       "  <thead>\n",
       "    <tr style=\"text-align: right;\">\n",
       "      <th></th>\n",
       "      <th>sepal_length</th>\n",
       "      <th>sepal_width</th>\n",
       "      <th>petal_length</th>\n",
       "      <th>petal_width</th>\n",
       "      <th>species</th>\n",
       "    </tr>\n",
       "  </thead>\n",
       "  <tbody>\n",
       "    <tr>\n",
       "      <th>0</th>\n",
       "      <td>5.1</td>\n",
       "      <td>3.5</td>\n",
       "      <td>1.4</td>\n",
       "      <td>0.2</td>\n",
       "      <td>setosa</td>\n",
       "    </tr>\n",
       "    <tr>\n",
       "      <th>1</th>\n",
       "      <td>4.9</td>\n",
       "      <td>3.0</td>\n",
       "      <td>1.4</td>\n",
       "      <td>0.2</td>\n",
       "      <td>setosa</td>\n",
       "    </tr>\n",
       "    <tr>\n",
       "      <th>2</th>\n",
       "      <td>4.7</td>\n",
       "      <td>3.2</td>\n",
       "      <td>1.3</td>\n",
       "      <td>0.2</td>\n",
       "      <td>setosa</td>\n",
       "    </tr>\n",
       "    <tr>\n",
       "      <th>3</th>\n",
       "      <td>4.6</td>\n",
       "      <td>3.1</td>\n",
       "      <td>1.5</td>\n",
       "      <td>0.2</td>\n",
       "      <td>setosa</td>\n",
       "    </tr>\n",
       "    <tr>\n",
       "      <th>4</th>\n",
       "      <td>5.0</td>\n",
       "      <td>3.6</td>\n",
       "      <td>1.4</td>\n",
       "      <td>0.2</td>\n",
       "      <td>setosa</td>\n",
       "    </tr>\n",
       "  </tbody>\n",
       "</table>\n",
       "</div>"
      ],
      "text/plain": [
       "   sepal_length  sepal_width  petal_length  petal_width species\n",
       "0           5.1          3.5           1.4          0.2  setosa\n",
       "1           4.9          3.0           1.4          0.2  setosa\n",
       "2           4.7          3.2           1.3          0.2  setosa\n",
       "3           4.6          3.1           1.5          0.2  setosa\n",
       "4           5.0          3.6           1.4          0.2  setosa"
      ]
     },
     "execution_count": 3,
     "metadata": {},
     "output_type": "execute_result"
    }
   ],
   "source": [
    "#import and clean iris data\n",
    "df = prep_iris(get_iris_data())\n",
    "df.head()"
   ]
  },
  {
   "cell_type": "code",
   "execution_count": 4,
   "metadata": {},
   "outputs": [],
   "source": [
    "#split the data into 70/30 train/test groups for x and y\n",
    "x=df[['sepal_length','sepal_width','petal_length','petal_width']]\n",
    "y=df[['species']]\n",
    "x_train,x_test,y_train,y_test=train_test_split(x,y,test_size=.30,random_state=123)"
   ]
  },
  {
   "cell_type": "code",
   "execution_count": 5,
   "metadata": {},
   "outputs": [
    {
     "data": {
      "text/plain": [
       "LogisticRegression(C=1, class_weight='balanced', dual=False, fit_intercept=True,\n",
       "                   intercept_scaling=1, l1_ratio=None, max_iter=100,\n",
       "                   multi_class='warn', n_jobs=None, penalty='l2',\n",
       "                   random_state=123, solver='saga', tol=0.0001, verbose=0,\n",
       "                   warm_start=False)"
      ]
     },
     "execution_count": 5,
     "metadata": {},
     "output_type": "execute_result"
    }
   ],
   "source": [
    "# Fit logistic regression clasifier onto training samples and transform\n",
    "logit=LogisticRegression(C=1,class_weight='balanced',random_state=123,solver='saga')\n",
    "logit.fit(x_train,y_train)"
   ]
  },
  {
   "cell_type": "code",
   "execution_count": 6,
   "metadata": {},
   "outputs": [
    {
     "data": {
      "text/plain": [
       "array([[1.06581048e-03, 2.85360763e-01, 7.13573426e-01],\n",
       "       [1.07334021e-03, 2.41758386e-01, 7.57168273e-01],\n",
       "       [1.88099190e-02, 6.48735010e-01, 3.32455071e-01],\n",
       "       [8.64033177e-01, 1.35935117e-01, 3.17061926e-05],\n",
       "       [7.65439950e-01, 2.34438034e-01, 1.22016286e-04]])"
      ]
     },
     "execution_count": 6,
     "metadata": {},
     "output_type": "execute_result"
    }
   ],
   "source": [
    "# generate predictions\n",
    "y_pred = logit.predict(x_train)\n",
    "y_pred_proba=logit.predict_proba(x_train)\n",
    "\n",
    "y_pred_proba[:5]"
   ]
  },
  {
   "cell_type": "code",
   "execution_count": 7,
   "metadata": {},
   "outputs": [],
   "source": [
    "# Evaluate in-sample results using the model score, confusion matrix, and classification report"
   ]
  },
  {
   "cell_type": "code",
   "execution_count": 8,
   "metadata": {},
   "outputs": [
    {
     "name": "stdout",
     "output_type": "stream",
     "text": [
      "Accuracy of Logistic regression on training set: 0.96\n"
     ]
    }
   ],
   "source": [
    "# print model score\n",
    "print('Accuracy of Logistic regression on training set: {:.2f}'.format(logit.score(x_train,y_train)))"
   ]
  },
  {
   "cell_type": "code",
   "execution_count": 9,
   "metadata": {},
   "outputs": [
    {
     "name": "stdout",
     "output_type": "stream",
     "text": [
      "[[32  0  0]\n",
      " [ 0 37  3]\n",
      " [ 0  1 32]]\n"
     ]
    }
   ],
   "source": [
    "# print confution martix\n",
    "print(confusion_matrix(y_train,y_pred))"
   ]
  },
  {
   "cell_type": "code",
   "execution_count": 10,
   "metadata": {},
   "outputs": [
    {
     "data": {
      "text/plain": [
       "{'setosa': {'precision': 1.0, 'recall': 1.0, 'f1-score': 1.0, 'support': 32},\n",
       " 'versicolor': {'precision': 0.9736842105263158,\n",
       "  'recall': 0.925,\n",
       "  'f1-score': 0.9487179487179489,\n",
       "  'support': 40},\n",
       " 'virginica': {'precision': 0.9142857142857143,\n",
       "  'recall': 0.9696969696969697,\n",
       "  'f1-score': 0.9411764705882354,\n",
       "  'support': 33},\n",
       " 'accuracy': 0.9619047619047619,\n",
       " 'macro avg': {'precision': 0.96265664160401,\n",
       "  'recall': 0.9648989898989898,\n",
       "  'f1-score': 0.9632981397687281,\n",
       "  'support': 105},\n",
       " 'weighted avg': {'precision': 0.9630361618331543,\n",
       "  'recall': 0.9619047619047619,\n",
       "  'f1-score': 0.9619765855059974,\n",
       "  'support': 105}}"
      ]
     },
     "execution_count": 10,
     "metadata": {},
     "output_type": "execute_result"
    }
   ],
   "source": [
    "# generate classifiaction report\n",
    "cr=(classification_report(y_train,y_pred,output_dict=True))\n",
    "cr"
   ]
  },
  {
   "cell_type": "code",
   "execution_count": 12,
   "metadata": {},
   "outputs": [
    {
     "data": {
      "text/plain": [
       "LogisticRegression(C=1, class_weight='balanced', dual=False, fit_intercept=True,\n",
       "                   intercept_scaling=1, l1_ratio=None, max_iter=100,\n",
       "                   multi_class='warn', n_jobs=None, penalty='l2',\n",
       "                   random_state=123, solver='liblinear', tol=0.0001, verbose=0,\n",
       "                   warm_start=False)"
      ]
     },
     "execution_count": 12,
     "metadata": {},
     "output_type": "execute_result"
    }
   ],
   "source": [
    "# Fit data to regression to new solver\n",
    "logit=LogisticRegression(C=1,class_weight='balanced',random_state=123,solver='liblinear')\n",
    "logit.fit(x_train,y_train)"
   ]
  },
  {
   "cell_type": "code",
   "execution_count": 13,
   "metadata": {},
   "outputs": [
    {
     "data": {
      "text/plain": [
       "array([[8.73154083e-04, 2.15635131e-01, 7.83491715e-01],\n",
       "       [8.97359857e-04, 1.76734891e-01, 8.22367749e-01],\n",
       "       [1.67572589e-02, 6.35328913e-01, 3.47913829e-01],\n",
       "       [8.96226906e-01, 1.03746789e-01, 2.63054825e-05],\n",
       "       [8.13687747e-01, 1.86187330e-01, 1.24922605e-04]])"
      ]
     },
     "execution_count": 13,
     "metadata": {},
     "output_type": "execute_result"
    }
   ],
   "source": [
    "# generate predictions\n",
    "y_pred = logit.predict(x_train)\n",
    "y_pred_proba=logit.predict_proba(x_train)\n",
    "\n",
    "y_pred_proba[:5]"
   ]
  },
  {
   "cell_type": "code",
   "execution_count": 14,
   "metadata": {},
   "outputs": [
    {
     "name": "stdout",
     "output_type": "stream",
     "text": [
      "[[32  0  0]\n",
      " [ 0 36  4]\n",
      " [ 0  1 32]]\n"
     ]
    }
   ],
   "source": [
    "# print confution martix\n",
    "print(confusion_matrix(y_train,y_pred))"
   ]
  },
  {
   "cell_type": "code",
   "execution_count": 15,
   "metadata": {},
   "outputs": [
    {
     "data": {
      "text/plain": [
       "{'setosa': {'precision': 1.0, 'recall': 1.0, 'f1-score': 1.0, 'support': 32},\n",
       " 'versicolor': {'precision': 0.972972972972973,\n",
       "  'recall': 0.9,\n",
       "  'f1-score': 0.935064935064935,\n",
       "  'support': 40},\n",
       " 'virginica': {'precision': 0.8888888888888888,\n",
       "  'recall': 0.9696969696969697,\n",
       "  'f1-score': 0.927536231884058,\n",
       "  'support': 33},\n",
       " 'accuracy': 0.9523809523809523,\n",
       " 'macro avg': {'precision': 0.953953953953954,\n",
       "  'recall': 0.9565656565656565,\n",
       "  'f1-score': 0.9542003889829976,\n",
       "  'support': 105},\n",
       " 'weighted avg': {'precision': 0.9547833547833547,\n",
       "  'recall': 0.9523809523809523,\n",
       "  'f1-score': 0.9524885052835362,\n",
       "  'support': 105}}"
      ]
     },
     "execution_count": 15,
     "metadata": {},
     "output_type": "execute_result"
    }
   ],
   "source": [
    "# generate classifiaction report\n",
    "cr=(classification_report(y_train,y_pred,output_dict=True))\n",
    "cr"
   ]
  }
 ],
 "metadata": {
  "kernelspec": {
   "display_name": "Python 3",
   "language": "python",
   "name": "python3"
  },
  "language_info": {
   "codemirror_mode": {
    "name": "ipython",
    "version": 3
   },
   "file_extension": ".py",
   "mimetype": "text/x-python",
   "name": "python",
   "nbconvert_exporter": "python",
   "pygments_lexer": "ipython3",
   "version": "3.7.3"
  }
 },
 "nbformat": 4,
 "nbformat_minor": 2
}

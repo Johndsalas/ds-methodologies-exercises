{
 "cells": [
  {
   "cell_type": "markdown",
   "metadata": {},
   "source": [
    "1 Fit the logistic regression classifier to your training sample and transform, \n",
    "i.e. make predictions on the training sample\n",
    "\n",
    "2 Evaluate your in-sample results using the model score, confusion matrix, and classification report.\n",
    "\n",
    "3 Print and clearly label the following: Accuracy, true positive rate, false positive rate, true negative rate, \n",
    "false negative rate, precision, recall, f1-score, and support.\n",
    "\n",
    "4 Look in the scikit-learn documentation to research the solver parameter. \n",
    "What is your best option(s) for the particular problem you are trying to solve and the data to be used?\n",
    "\n",
    "5 Run through steps 2-4 using another solver (from question 5)\n",
    "Which performs better on your in-sample data?"
   ]
  },
  {
   "cell_type": "code",
   "execution_count": null,
   "metadata": {},
   "outputs": [],
   "source": [
    "#1 Fit the logistic regression classifier to your training sample and transform, \n",
    "i.e. make predictions on the training sample"
   ]
  }
 ],
 "metadata": {
  "kernelspec": {
   "display_name": "Python 3",
   "language": "python",
   "name": "python3"
  },
  "language_info": {
   "codemirror_mode": {
    "name": "ipython",
    "version": 3
   },
   "file_extension": ".py",
   "mimetype": "text/x-python",
   "name": "python",
   "nbconvert_exporter": "python",
   "pygments_lexer": "ipython3",
   "version": "3.7.3"
  }
 },
 "nbformat": 4,
 "nbformat_minor": 2
}

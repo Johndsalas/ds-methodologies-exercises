{
 "cells": [
  {
   "cell_type": "code",
   "execution_count": 1,
   "metadata": {},
   "outputs": [],
   "source": [
    "#imports\n",
    "import pandas as pd\n",
    "import numpy as np\n",
    "import matplotlib.pyplot as plt\n",
    "from math import sqrt\n",
    "from scipy import stats\n",
    "from sklearn.model_selection import train_test_split\n",
    "from sklearn.preprocessing import StandardScaler\n",
    "import seaborn as sns\n",
    "from sklearn.linear_model import LogisticRegression\n",
    "from sklearn.metrics import classification_report\n",
    "from sklearn.metrics import confusion_matrix\n",
    "import pandas as pd\n",
    "from pydataset import data\n",
    "from sklearn.tree import DecisionTreeClassifier\n",
    "from sklearn.tree import export_graphviz\n",
    "from pydataset import data"
   ]
  },
  {
   "cell_type": "code",
   "execution_count": 2,
   "metadata": {},
   "outputs": [
    {
     "data": {
      "text/html": [
       "<div>\n",
       "<style scoped>\n",
       "    .dataframe tbody tr th:only-of-type {\n",
       "        vertical-align: middle;\n",
       "    }\n",
       "\n",
       "    .dataframe tbody tr th {\n",
       "        vertical-align: top;\n",
       "    }\n",
       "\n",
       "    .dataframe thead th {\n",
       "        text-align: right;\n",
       "    }\n",
       "</style>\n",
       "<table border=\"1\" class=\"dataframe\">\n",
       "  <thead>\n",
       "    <tr style=\"text-align: right;\">\n",
       "      <th></th>\n",
       "      <th>customer_id</th>\n",
       "      <th>gender</th>\n",
       "      <th>is_male</th>\n",
       "      <th>senior_citizen</th>\n",
       "      <th>partner</th>\n",
       "      <th>dependents</th>\n",
       "      <th>family</th>\n",
       "      <th>partner_deps_id</th>\n",
       "      <th>partner_deps</th>\n",
       "      <th>tenure</th>\n",
       "      <th>...</th>\n",
       "      <th>contract_type</th>\n",
       "      <th>on_contract</th>\n",
       "      <th>contract_duration</th>\n",
       "      <th>paperless_billing</th>\n",
       "      <th>payment_type_id</th>\n",
       "      <th>payment_type</th>\n",
       "      <th>auto_pay</th>\n",
       "      <th>monthly_charges</th>\n",
       "      <th>total_charges</th>\n",
       "      <th>churn</th>\n",
       "    </tr>\n",
       "  </thead>\n",
       "  <tbody>\n",
       "    <tr>\n",
       "      <th>0</th>\n",
       "      <td>0003-MKNFE</td>\n",
       "      <td>Male</td>\n",
       "      <td>1</td>\n",
       "      <td>0</td>\n",
       "      <td>0</td>\n",
       "      <td>0</td>\n",
       "      <td>0</td>\n",
       "      <td>0</td>\n",
       "      <td>No partner, no dependents</td>\n",
       "      <td>9</td>\n",
       "      <td>...</td>\n",
       "      <td>Month-to-month</td>\n",
       "      <td>1</td>\n",
       "      <td>1</td>\n",
       "      <td>0</td>\n",
       "      <td>2</td>\n",
       "      <td>Mailed check</td>\n",
       "      <td>0</td>\n",
       "      <td>59.9</td>\n",
       "      <td>542.40</td>\n",
       "      <td>0</td>\n",
       "    </tr>\n",
       "    <tr>\n",
       "      <th>1</th>\n",
       "      <td>0004-TLHLJ</td>\n",
       "      <td>Male</td>\n",
       "      <td>1</td>\n",
       "      <td>0</td>\n",
       "      <td>0</td>\n",
       "      <td>0</td>\n",
       "      <td>0</td>\n",
       "      <td>0</td>\n",
       "      <td>No partner, no dependents</td>\n",
       "      <td>4</td>\n",
       "      <td>...</td>\n",
       "      <td>Month-to-month</td>\n",
       "      <td>1</td>\n",
       "      <td>1</td>\n",
       "      <td>1</td>\n",
       "      <td>1</td>\n",
       "      <td>Electronic check</td>\n",
       "      <td>0</td>\n",
       "      <td>73.9</td>\n",
       "      <td>280.85</td>\n",
       "      <td>1</td>\n",
       "    </tr>\n",
       "    <tr>\n",
       "      <th>2</th>\n",
       "      <td>0011-IGKFF</td>\n",
       "      <td>Male</td>\n",
       "      <td>1</td>\n",
       "      <td>1</td>\n",
       "      <td>1</td>\n",
       "      <td>0</td>\n",
       "      <td>1</td>\n",
       "      <td>2</td>\n",
       "      <td>Has partner, no dependents</td>\n",
       "      <td>13</td>\n",
       "      <td>...</td>\n",
       "      <td>Month-to-month</td>\n",
       "      <td>1</td>\n",
       "      <td>1</td>\n",
       "      <td>1</td>\n",
       "      <td>1</td>\n",
       "      <td>Electronic check</td>\n",
       "      <td>0</td>\n",
       "      <td>98.0</td>\n",
       "      <td>1237.85</td>\n",
       "      <td>1</td>\n",
       "    </tr>\n",
       "    <tr>\n",
       "      <th>3</th>\n",
       "      <td>0013-EXCHZ</td>\n",
       "      <td>Female</td>\n",
       "      <td>0</td>\n",
       "      <td>1</td>\n",
       "      <td>1</td>\n",
       "      <td>0</td>\n",
       "      <td>1</td>\n",
       "      <td>2</td>\n",
       "      <td>Has partner, no dependents</td>\n",
       "      <td>3</td>\n",
       "      <td>...</td>\n",
       "      <td>Month-to-month</td>\n",
       "      <td>1</td>\n",
       "      <td>1</td>\n",
       "      <td>1</td>\n",
       "      <td>2</td>\n",
       "      <td>Mailed check</td>\n",
       "      <td>0</td>\n",
       "      <td>83.9</td>\n",
       "      <td>267.40</td>\n",
       "      <td>1</td>\n",
       "    </tr>\n",
       "    <tr>\n",
       "      <th>4</th>\n",
       "      <td>0013-MHZWF</td>\n",
       "      <td>Female</td>\n",
       "      <td>0</td>\n",
       "      <td>0</td>\n",
       "      <td>0</td>\n",
       "      <td>1</td>\n",
       "      <td>1</td>\n",
       "      <td>1</td>\n",
       "      <td>No partner, has dependents</td>\n",
       "      <td>9</td>\n",
       "      <td>...</td>\n",
       "      <td>Month-to-month</td>\n",
       "      <td>1</td>\n",
       "      <td>1</td>\n",
       "      <td>1</td>\n",
       "      <td>4</td>\n",
       "      <td>Credit card (automatic)</td>\n",
       "      <td>1</td>\n",
       "      <td>69.4</td>\n",
       "      <td>571.45</td>\n",
       "      <td>0</td>\n",
       "    </tr>\n",
       "  </tbody>\n",
       "</table>\n",
       "<p>5 rows × 36 columns</p>\n",
       "</div>"
      ],
      "text/plain": [
       "  customer_id  gender  is_male  senior_citizen  partner  dependents  family  \\\n",
       "0  0003-MKNFE    Male        1               0        0           0       0   \n",
       "1  0004-TLHLJ    Male        1               0        0           0       0   \n",
       "2  0011-IGKFF    Male        1               1        1           0       1   \n",
       "3  0013-EXCHZ  Female        0               1        1           0       1   \n",
       "4  0013-MHZWF  Female        0               0        0           1       1   \n",
       "\n",
       "   partner_deps_id                partner_deps  tenure  ...   contract_type  \\\n",
       "0                0   No partner, no dependents       9  ...  Month-to-month   \n",
       "1                0   No partner, no dependents       4  ...  Month-to-month   \n",
       "2                2  Has partner, no dependents      13  ...  Month-to-month   \n",
       "3                2  Has partner, no dependents       3  ...  Month-to-month   \n",
       "4                1  No partner, has dependents       9  ...  Month-to-month   \n",
       "\n",
       "   on_contract  contract_duration paperless_billing  payment_type_id  \\\n",
       "0            1                  1                 0                2   \n",
       "1            1                  1                 1                1   \n",
       "2            1                  1                 1                1   \n",
       "3            1                  1                 1                2   \n",
       "4            1                  1                 1                4   \n",
       "\n",
       "              payment_type  auto_pay  monthly_charges  total_charges  churn  \n",
       "0             Mailed check         0             59.9         542.40      0  \n",
       "1         Electronic check         0             73.9         280.85      1  \n",
       "2         Electronic check         0             98.0        1237.85      1  \n",
       "3             Mailed check         0             83.9         267.40      1  \n",
       "4  Credit card (automatic)         1             69.4         571.45      0  \n",
       "\n",
       "[5 rows x 36 columns]"
      ]
     },
     "execution_count": 2,
     "metadata": {},
     "output_type": "execute_result"
    }
   ],
   "source": [
    "# Aquire Telco Data combining all tables\n",
    "#info(), .describe(), .value_counts(),\n",
    "import get_function_telco as gft\n",
    "df = gft.get_telco()\n",
    "df.head()"
   ]
  },
  {
   "cell_type": "code",
   "execution_count": 3,
   "metadata": {},
   "outputs": [
    {
     "ename": "NameError",
     "evalue": "name 'train' is not defined",
     "output_type": "error",
     "traceback": [
      "\u001b[0;31m---------------------------------------------------------------------------\u001b[0m",
      "\u001b[0;31mNameError\u001b[0m                                 Traceback (most recent call last)",
      "\u001b[0;32m<ipython-input-3-81f6f041ef1c>\u001b[0m in \u001b[0;36m<module>\u001b[0;34m\u001b[0m\n\u001b[0;32m----> 1\u001b[0;31m \u001b[0mtrain\u001b[0m\u001b[0;34m.\u001b[0m\u001b[0mcontract_type\u001b[0m\u001b[0;34m.\u001b[0m\u001b[0mvalue_counts\u001b[0m\u001b[0;34m(\u001b[0m\u001b[0;34m)\u001b[0m\u001b[0;34m\u001b[0m\u001b[0;34m\u001b[0m\u001b[0m\n\u001b[0m",
      "\u001b[0;31mNameError\u001b[0m: name 'train' is not defined"
     ]
    }
   ],
   "source": [
    "train.contract_type.value_counts()"
   ]
  },
  {
   "cell_type": "code",
   "execution_count": null,
   "metadata": {},
   "outputs": [],
   "source": [
    "#sumerizing data"
   ]
  },
  {
   "cell_type": "code",
   "execution_count": null,
   "metadata": {},
   "outputs": [],
   "source": [
    "df.shape"
   ]
  },
  {
   "cell_type": "code",
   "execution_count": null,
   "metadata": {},
   "outputs": [],
   "source": [
    "df.describe()"
   ]
  },
  {
   "cell_type": "code",
   "execution_count": null,
   "metadata": {},
   "outputs": [],
   "source": [
    "df.info()"
   ]
  },
  {
   "cell_type": "code",
   "execution_count": null,
   "metadata": {},
   "outputs": [],
   "source": [
    "#dropping columns with redundant values\n",
    "df = df.drop(columns=[\"contract_type\",\"payment_type\",'phone_service_type','gender'])"
   ]
  },
  {
   "cell_type": "code",
   "execution_count": null,
   "metadata": {
    "scrolled": true
   },
   "outputs": [],
   "source": [
    "df.info()"
   ]
  },
  {
   "cell_type": "code",
   "execution_count": null,
   "metadata": {},
   "outputs": [],
   "source": [
    "#split data into test and train\n",
    "train, test = train_test_split(df, train_size = .8, random_state = 999)\n"
   ]
  },
  {
   "cell_type": "code",
   "execution_count": null,
   "metadata": {
    "scrolled": true
   },
   "outputs": [],
   "source": [
    "X_train = train.drop(columns=['churn','customer_id','partner_deps'])\n",
    "y_train = train.churn"
   ]
  },
  {
   "cell_type": "code",
   "execution_count": null,
   "metadata": {},
   "outputs": [],
   "source": [
    "clf=DecisionTreeClassifier(criterion='entropy',max_depth=3,random_state=123)\n",
    "clf.fit(X_train,y_train)\n",
    "\n",
    "y_pred=clf.predict(X_train)\n",
    "y_pred_proba=clf.predict_proba(X_train)\n",
    "y_pred_proba\n",
    "\n",
    "print('Accuracy of Decision Tree classifier on training set: {:.2f}'.format(clf.score(X_train,y_train)))"
   ]
  },
  {
   "cell_type": "code",
   "execution_count": null,
   "metadata": {},
   "outputs": [],
   "source": [
    "clf=DecisionTreeClassifier(criterion='entropy',max_depth=6,random_state=123)\n",
    "clf.fit(X_train,y_train)\n",
    "\n",
    "y_pred=clf.predict(X_train)\n",
    "y_pred_proba=clf.predict_proba(X_train)\n",
    "y_pred_proba\n",
    "\n",
    "print('Accuracy of Decision Tree classifier on training set: {:.2f}'.format(clf.score(X_train,y_train)))"
   ]
  },
  {
   "cell_type": "code",
   "execution_count": null,
   "metadata": {},
   "outputs": [],
   "source": [
    "clf=DecisionTreeClassifier(criterion='entropy',max_depth=12,random_state=123)\n",
    "clf.fit(X_train,y_train)\n",
    "\n",
    "y_pred=clf.predict(X_train)\n",
    "y_pred_proba=clf.predict_proba(X_train)\n",
    "y_pred_proba\n",
    "\n",
    "print('Accuracy of Decision Tree classifier on training set: {:.2f}'.format(clf.score(X_train,y_train)))"
   ]
  },
  {
   "cell_type": "code",
   "execution_count": null,
   "metadata": {},
   "outputs": [],
   "source": [
    "x=1\n",
    "while x < 20:\n",
    "    \n",
    "    clf=DecisionTreeClassifier(criterion='entropy',max_depth=x,random_state=123)\n",
    "    clf.fit(X_train,y_train)\n",
    "\n",
    "    y_pred=clf.predict(X_train)\n",
    "    y_pred_proba=clf.predict_proba(X_train)\n",
    "    y_pred_proba\n",
    "\n",
    "    print('Accuracy of Decision Tree classifier on training set: {:.2f}'.format(clf.score(X_train,y_train)))\n",
    "    \n",
    "    x += 1"
   ]
  },
  {
   "cell_type": "code",
   "execution_count": null,
   "metadata": {
    "scrolled": false
   },
   "outputs": [],
   "source": [
    "plt.figure(figsize=(5, 5))\n",
    "sns.lineplot(train.tenure,train.churn)"
   ]
  },
  {
   "cell_type": "code",
   "execution_count": null,
   "metadata": {},
   "outputs": [],
   "source": [
    "#add new feature tenure in years\n",
    "train['tenure_in_years'] = train.tenure / 12"
   ]
  },
  {
   "cell_type": "code",
   "execution_count": null,
   "metadata": {},
   "outputs": [],
   "source": [
    "plt.figure(figsize=(8, 8))\n",
    "sns.lineplot(train.tenure_in_years,train.churn,dashes=True)"
   ]
  },
  {
   "cell_type": "code",
   "execution_count": null,
   "metadata": {},
   "outputs": [],
   "source": [
    "# Data shows a gradual downword trend.\n",
    "# Data seems to be prone to rapid peeks and valleys.\n",
    "# Rapidity of peeks and vallys seem to suggest that there is not a tenure group that is more prone to churn.\n",
    "# Sharpist decline is right before the two year mark and could be worth investigating "
   ]
  },
  {
   "cell_type": "code",
   "execution_count": null,
   "metadata": {},
   "outputs": [],
   "source": [
    "# heat map of data\n",
    "\n",
    "plt.figure(figsize=(18, 18))\n",
    "sns.heatmap(round(df.corr(),1),annot=True)"
   ]
  },
  {
   "cell_type": "code",
   "execution_count": null,
   "metadata": {},
   "outputs": [],
   "source": [
    "# Nerrowing features to those have at least a .3 correlation with churn.\n",
    "# Remaining veriables are: tenure, has_fiber, contract_type_id, on_contract, contract_duration, payment_type_id\n",
    "# removing contract_type_id, on_contract, and contract_duration all convay similer information removing all\n",
    "# except contract duration\n",
    "# remaining features are tenure, has_fiber, and contract_duration"
   ]
  },
  {
   "cell_type": "code",
   "execution_count": null,
   "metadata": {},
   "outputs": [],
   "source": [
    "# 4 find churn rate for m-m cust after 12m find yearly after 12 months\n",
    "\n"
   ]
  },
  {
   "cell_type": "code",
   "execution_count": null,
   "metadata": {},
   "outputs": [],
   "source": []
  },
  {
   "cell_type": "code",
   "execution_count": null,
   "metadata": {},
   "outputs": [],
   "source": [
    "# 1 finished\n",
    "# 2 fiber and contract type\n",
    "# 3 plot graph for each service with monthlycharge and churn\n",
    "# 4 find churn rate for m-m cust after 12m find yearly after 12 months\n",
    "# 5 find mean monthly charge of each id type and compare for churned and nonchurned\n",
    "# 6 correlation test monthly charges and internet service type\n",
    "# 7 \n",
    "# 8 heatmap\n",
    "# 9 Correlated to churn predict reasons\n",
    "# 10 summerize conclutions answer questions \n",
    "# provide clear take aways/ action plan\n",
    "\n",
    "\n",
    "plt.figure(figsize=(18, 18))\n",
    "sns.scatterplot(train[train.has_dsl==1].monthly_charges,train.churn)\n",
    "                   \n",
    "                   \n",
    "\n",
    "#t[t.column==value].monthlycharges"
   ]
  },
  {
   "cell_type": "code",
   "execution_count": null,
   "metadata": {},
   "outputs": [],
   "source": [
    "#5 use mean of each group in a 2 sample t-test "
   ]
  },
  {
   "cell_type": "code",
   "execution_count": null,
   "metadata": {},
   "outputs": [],
   "source": [
    "# Running new treechart to test new features\n",
    "\n",
    "X_train = train[['tenure','has_fiber','contract_duration']]\n",
    "y_train = train.churn"
   ]
  },
  {
   "cell_type": "code",
   "execution_count": null,
   "metadata": {},
   "outputs": [],
   "source": [
    "x=1\n",
    "while x < 20:\n",
    "    \n",
    "    clf=DecisionTreeClassifier(criterion='entropy',max_depth=x,random_state=123)\n",
    "    clf.fit(X_train,y_train)\n",
    "\n",
    "    y_pred=clf.predict(X_train)\n",
    "    y_pred_proba=clf.predict_proba(X_train)\n",
    "    y_pred_proba\n",
    "\n",
    "    print('Accuracy of Decision Tree classifier on training set: {:.2f}'.format(clf.score(X_train,y_train)))\n",
    "    \n",
    "    x += 1"
   ]
  },
  {
   "cell_type": "code",
   "execution_count": null,
   "metadata": {},
   "outputs": [],
   "source": [
    "x=1\n",
    "while x < 20:\n",
    "    \n",
    "    clf=DecisionTreeClassifier(criterion='gini',max_depth=x,random_state=123)\n",
    "    clf.fit(X_train,y_train)\n",
    "\n",
    "    y_pred=clf.predict(X_train)\n",
    "    y_pred_proba=clf.predict_proba(X_train)\n",
    "    y_pred_proba\n",
    "\n",
    "    print('Accuracy of Decision Tree classifier on training set: {:.2f}'.format(clf.score(X_train,y_train)))\n",
    "    \n",
    "    x += 1"
   ]
  },
  {
   "cell_type": "code",
   "execution_count": null,
   "metadata": {},
   "outputs": [],
   "source": [
    "X_train = train[['tenure','has_fiber','contract_duration']]\n",
    "y_train = train.churn\n",
    "\n",
    "X_test = test[['tenure','has_fiber','contract_duration']]\n",
    "y_test = test.churn"
   ]
  },
  {
   "cell_type": "code",
   "execution_count": null,
   "metadata": {},
   "outputs": [],
   "source": [
    "x=1\n",
    "while x < 20:\n",
    "    \n",
    "    clf=DecisionTreeClassifier(criterion='entropy',max_depth=x,random_state=123)\n",
    "    clf.fit(X_train,y_train)\n",
    "\n",
    "    y_pred=clf.predict(X_test)\n",
    "    y_pred_proba=clf.predict_proba(X_test)\n",
    "    y_pred_proba\n",
    "\n",
    "    print('Accuracy of Decision Tree classifier on training set: {:.2f}'.format(clf.score(X_test,y_test)))\n",
    "    \n",
    "    x += 1"
   ]
  },
  {
   "cell_type": "code",
   "execution_count": null,
   "metadata": {},
   "outputs": [],
   "source": [
    "monthly_charges by churn for each "
   ]
  },
  {
   "cell_type": "code",
   "execution_count": null,
   "metadata": {},
   "outputs": [],
   "source": []
  },
  {
   "cell_type": "code",
   "execution_count": null,
   "metadata": {},
   "outputs": [],
   "source": []
  },
  {
   "cell_type": "code",
   "execution_count": null,
   "metadata": {},
   "outputs": [],
   "source": []
  },
  {
   "cell_type": "code",
   "execution_count": null,
   "metadata": {},
   "outputs": [],
   "source": []
  },
  {
   "cell_type": "code",
   "execution_count": null,
   "metadata": {},
   "outputs": [],
   "source": []
  },
  {
   "cell_type": "code",
   "execution_count": null,
   "metadata": {},
   "outputs": [],
   "source": [
    "# heat map of data\n",
    "\n",
    "plt.figure(figsize=(18, 18))\n",
    "sns.heatmap(round(df.corr(),1),annot=True)"
   ]
  },
  {
   "cell_type": "code",
   "execution_count": null,
   "metadata": {},
   "outputs": [],
   "source": [
    "#add new feature tenure in years\n",
    "train['tenure_in_years'] = train.tenure / 12"
   ]
  },
  {
   "cell_type": "code",
   "execution_count": null,
   "metadata": {},
   "outputs": [],
   "source": [
    "#add new feature combining phone service and multiple lines\n",
    "# 0 has no phone lines \n",
    "# 1 has one phone line \n",
    "# 2 has multiple phone lines\n",
    "train['phone_lines'] = train.multiple_lines.apply(lambda n: 2 if n == 'Yes' else 1 if n == 'No' else 0)"
   ]
  },
  {
   "cell_type": "code",
   "execution_count": null,
   "metadata": {},
   "outputs": [],
   "source": [
    "# add new feature has family combining dependants and partner\n",
    "# 0 has no family\n",
    "# 1 has spouse\n",
    "# 2 has dependant\n",
    "# 3 has spouse and dependant\n",
    "# train['has_family'] = 1\n",
    "#train['has_family'] = (lambda n: 3 if (train.dependents == \"Yes\") & (train.partner == \"Yes\") else 2 if (train.dependents == \"Yes\") & (train.partner == \"No\") else 1 if (train.dependents == \"No\") & (train.partner == \"Yes\") else 0 if (train.dependents == \"No\") & (train.partner == \"No\"))"
   ]
  },
  {
   "cell_type": "code",
   "execution_count": null,
   "metadata": {},
   "outputs": [],
   "source": []
  },
  {
   "cell_type": "code",
   "execution_count": null,
   "metadata": {},
   "outputs": [],
   "source": []
  },
  {
   "cell_type": "code",
   "execution_count": null,
   "metadata": {},
   "outputs": [],
   "source": []
  },
  {
   "cell_type": "raw",
   "metadata": {},
   "source": []
  }
 ],
 "metadata": {
  "kernelspec": {
   "display_name": "Python 3",
   "language": "python",
   "name": "python3"
  },
  "language_info": {
   "codemirror_mode": {
    "name": "ipython",
    "version": 3
   },
   "file_extension": ".py",
   "mimetype": "text/x-python",
   "name": "python",
   "nbconvert_exporter": "python",
   "pygments_lexer": "ipython3",
   "version": "3.7.3"
  }
 },
 "nbformat": 4,
 "nbformat_minor": 2
}

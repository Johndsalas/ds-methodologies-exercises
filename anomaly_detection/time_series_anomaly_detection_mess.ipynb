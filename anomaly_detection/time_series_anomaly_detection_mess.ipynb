{
 "cells": [
  {
   "cell_type": "markdown",
   "metadata": {},
   "source": [
    "### Goals:\n",
    "\n",
    "1) Discover users who are accessing our curriculum pages way beyond the end of their codeup time. \n",
    "\n",
    "2) What would the dataframe look like? \n",
    "\n",
    "3) Use time series method for detecting anomalies, like exponential moving average with %b.\n",
    "\n",
    "Bonus:\n",
    "\n",
    "B1) Can you label students who are viewing both the web dev and data science curriculum? \n",
    "\n",
    "B2) Can you label students by the program they are in? \n",
    "\n",
    "B3) Can you label users by student vs. staff? What are Zach, Maggie, David, and Ryan's ids?"
   ]
  },
  {
   "cell_type": "code",
   "execution_count": 1,
   "metadata": {},
   "outputs": [],
   "source": [
    "import numpy as np\n",
    "import pandas as pd\n",
    "import math\n",
    "from sklearn import metrics\n",
    "\n",
    "import warnings\n",
    "warnings.filterwarnings(\"ignore\")\n",
    "import matplotlib.pyplot as plt\n",
    "import matplotlib.dates as mdates\n",
    "%matplotlib inline\n",
    "import seaborn as sns\n",
    "\n",
    "from acquire import get_the_data\n",
    "from prepare import prepare_the_data"
   ]
  },
  {
   "cell_type": "code",
   "execution_count": 2,
   "metadata": {},
   "outputs": [
    {
     "data": {
      "text/html": [
       "<div>\n",
       "<style scoped>\n",
       "    .dataframe tbody tr th:only-of-type {\n",
       "        vertical-align: middle;\n",
       "    }\n",
       "\n",
       "    .dataframe tbody tr th {\n",
       "        vertical-align: top;\n",
       "    }\n",
       "\n",
       "    .dataframe thead th {\n",
       "        text-align: right;\n",
       "    }\n",
       "</style>\n",
       "<table border=\"1\" class=\"dataframe\">\n",
       "  <thead>\n",
       "    <tr style=\"text-align: right;\">\n",
       "      <th></th>\n",
       "      <th>http</th>\n",
       "      <th>person</th>\n",
       "      <th>group</th>\n",
       "      <th>ipaddress</th>\n",
       "    </tr>\n",
       "    <tr>\n",
       "      <th>timestamp</th>\n",
       "      <th></th>\n",
       "      <th></th>\n",
       "      <th></th>\n",
       "      <th></th>\n",
       "    </tr>\n",
       "  </thead>\n",
       "  <tbody>\n",
       "    <tr>\n",
       "      <th>2018-01-26 09:55:03</th>\n",
       "      <td>/</td>\n",
       "      <td>1</td>\n",
       "      <td>8.0</td>\n",
       "      <td>97.105.19.61</td>\n",
       "    </tr>\n",
       "    <tr>\n",
       "      <th>2018-01-26 09:56:02</th>\n",
       "      <td>java-ii</td>\n",
       "      <td>1</td>\n",
       "      <td>8.0</td>\n",
       "      <td>97.105.19.61</td>\n",
       "    </tr>\n",
       "    <tr>\n",
       "      <th>2018-01-26 09:56:05</th>\n",
       "      <td>java-ii/object-oriented-programming</td>\n",
       "      <td>1</td>\n",
       "      <td>8.0</td>\n",
       "      <td>97.105.19.61</td>\n",
       "    </tr>\n",
       "    <tr>\n",
       "      <th>2018-01-26 09:56:06</th>\n",
       "      <td>slides/object_oriented_programming</td>\n",
       "      <td>1</td>\n",
       "      <td>8.0</td>\n",
       "      <td>97.105.19.61</td>\n",
       "    </tr>\n",
       "    <tr>\n",
       "      <th>2018-01-26 09:56:24</th>\n",
       "      <td>javascript-i/conditionals</td>\n",
       "      <td>2</td>\n",
       "      <td>22.0</td>\n",
       "      <td>97.105.19.61</td>\n",
       "    </tr>\n",
       "  </tbody>\n",
       "</table>\n",
       "</div>"
      ],
      "text/plain": [
       "                                                    http  person  group  \\\n",
       "timestamp                                                                 \n",
       "2018-01-26 09:55:03                                    /       1    8.0   \n",
       "2018-01-26 09:56:02                              java-ii       1    8.0   \n",
       "2018-01-26 09:56:05  java-ii/object-oriented-programming       1    8.0   \n",
       "2018-01-26 09:56:06   slides/object_oriented_programming       1    8.0   \n",
       "2018-01-26 09:56:24            javascript-i/conditionals       2   22.0   \n",
       "\n",
       "                        ipaddress  \n",
       "timestamp                          \n",
       "2018-01-26 09:55:03  97.105.19.61  \n",
       "2018-01-26 09:56:02  97.105.19.61  \n",
       "2018-01-26 09:56:05  97.105.19.61  \n",
       "2018-01-26 09:56:06  97.105.19.61  \n",
       "2018-01-26 09:56:24  97.105.19.61  "
      ]
     },
     "execution_count": 2,
     "metadata": {},
     "output_type": "execute_result"
    }
   ],
   "source": [
    "# Filled nan's with 0 in \"other_number\" value possibly represents number of users accessing curiculem at a time\n",
    "# no 0's recorded in data\n",
    "df = prepare_the_data(get_the_data())\n",
    "df.head()"
   ]
  },
  {
   "cell_type": "code",
   "execution_count": 3,
   "metadata": {},
   "outputs": [
    {
     "name": "stdout",
     "output_type": "stream",
     "text": [
      "<class 'pandas.core.frame.DataFrame'>\n",
      "DatetimeIndex: 399195 entries, 2018-01-26 09:55:03 to 2019-11-19 10:07:45\n",
      "Data columns (total 4 columns):\n",
      "http         399195 non-null object\n",
      "person       399195 non-null int64\n",
      "group        399195 non-null float64\n",
      "ipaddress    399195 non-null object\n",
      "dtypes: float64(1), int64(1), object(2)\n",
      "memory usage: 15.2+ MB\n"
     ]
    }
   ],
   "source": [
    "df.info()"
   ]
  },
  {
   "cell_type": "code",
   "execution_count": 4,
   "metadata": {},
   "outputs": [
    {
     "data": {
      "text/plain": [
       "DatetimeIndex(['2018-01-26 09:55:03', '2018-01-26 09:56:02',\n",
       "               '2018-01-26 09:56:05', '2018-01-26 09:56:06',\n",
       "               '2018-01-26 09:56:24', '2018-01-26 09:56:41',\n",
       "               '2018-01-26 09:56:46', '2018-01-26 09:56:48',\n",
       "               '2018-01-26 09:56:59', '2018-01-26 09:58:26',\n",
       "               ...\n",
       "               '2019-11-19 10:05:00', '2019-11-19 10:05:53',\n",
       "               '2019-11-19 10:06:13', '2019-11-19 10:06:21',\n",
       "               '2019-11-19 10:06:26', '2019-11-19 10:06:28',\n",
       "               '2019-11-19 10:06:50', '2019-11-19 10:07:03',\n",
       "               '2019-11-19 10:07:07', '2019-11-19 10:07:45'],\n",
       "              dtype='datetime64[ns]', name='timestamp', length=399195, freq=None)"
      ]
     },
     "execution_count": 4,
     "metadata": {},
     "output_type": "execute_result"
    }
   ],
   "source": [
    "df.index.sort_values()"
   ]
  },
  {
   "cell_type": "markdown",
   "metadata": {},
   "source": [
    "## Data from:    2018-01-26 to  2019-11-19  spans about one year"
   ]
  },
  {
   "cell_type": "code",
   "execution_count": 5,
   "metadata": {},
   "outputs": [
    {
     "data": {
      "text/plain": [
       "http         0\n",
       "person       0\n",
       "group        0\n",
       "ipaddress    0\n",
       "dtype: int64"
      ]
     },
     "execution_count": 5,
     "metadata": {},
     "output_type": "execute_result"
    }
   ],
   "source": [
    "df.isnull().sum()"
   ]
  },
  {
   "cell_type": "markdown",
   "metadata": {},
   "source": [
    "Massive spike in other_number beginning in augest Why?"
   ]
  },
  {
   "cell_type": "markdown",
   "metadata": {},
   "source": [
    "one other_number value is tied to about 20 number values\n",
    "\n",
    "number value is tied to 1~2 other_number values\n",
    "\n",
    "it is likely that other number represents a group of numbers \n",
    "\n",
    "it is further likely that number represents an individual\n",
    "\n",
    "other number = group of individuals \n",
    "\n",
    "number = individual\n",
    "\n",
    "Fixing column heading in aquire"
   ]
  },
  {
   "cell_type": "code",
   "execution_count": 6,
   "metadata": {},
   "outputs": [
    {
     "data": {
      "text/html": [
       "<div>\n",
       "<style scoped>\n",
       "    .dataframe tbody tr th:only-of-type {\n",
       "        vertical-align: middle;\n",
       "    }\n",
       "\n",
       "    .dataframe tbody tr th {\n",
       "        vertical-align: top;\n",
       "    }\n",
       "\n",
       "    .dataframe thead th {\n",
       "        text-align: right;\n",
       "    }\n",
       "</style>\n",
       "<table border=\"1\" class=\"dataframe\">\n",
       "  <thead>\n",
       "    <tr style=\"text-align: right;\">\n",
       "      <th></th>\n",
       "      <th>http</th>\n",
       "      <th>person</th>\n",
       "      <th>group</th>\n",
       "      <th>ipaddress</th>\n",
       "    </tr>\n",
       "    <tr>\n",
       "      <th>timestamp</th>\n",
       "      <th></th>\n",
       "      <th></th>\n",
       "      <th></th>\n",
       "      <th></th>\n",
       "    </tr>\n",
       "  </thead>\n",
       "  <tbody>\n",
       "    <tr>\n",
       "      <th>2018-01-26 09:55:03</th>\n",
       "      <td>/</td>\n",
       "      <td>1</td>\n",
       "      <td>8.0</td>\n",
       "      <td>97.105.19.61</td>\n",
       "    </tr>\n",
       "    <tr>\n",
       "      <th>2018-01-26 09:56:02</th>\n",
       "      <td>java-ii</td>\n",
       "      <td>1</td>\n",
       "      <td>8.0</td>\n",
       "      <td>97.105.19.61</td>\n",
       "    </tr>\n",
       "    <tr>\n",
       "      <th>2018-01-26 09:56:05</th>\n",
       "      <td>java-ii/object-oriented-programming</td>\n",
       "      <td>1</td>\n",
       "      <td>8.0</td>\n",
       "      <td>97.105.19.61</td>\n",
       "    </tr>\n",
       "    <tr>\n",
       "      <th>2018-01-26 09:56:06</th>\n",
       "      <td>slides/object_oriented_programming</td>\n",
       "      <td>1</td>\n",
       "      <td>8.0</td>\n",
       "      <td>97.105.19.61</td>\n",
       "    </tr>\n",
       "    <tr>\n",
       "      <th>2018-01-26 09:56:24</th>\n",
       "      <td>javascript-i/conditionals</td>\n",
       "      <td>2</td>\n",
       "      <td>22.0</td>\n",
       "      <td>97.105.19.61</td>\n",
       "    </tr>\n",
       "  </tbody>\n",
       "</table>\n",
       "</div>"
      ],
      "text/plain": [
       "                                                    http  person  group  \\\n",
       "timestamp                                                                 \n",
       "2018-01-26 09:55:03                                    /       1    8.0   \n",
       "2018-01-26 09:56:02                              java-ii       1    8.0   \n",
       "2018-01-26 09:56:05  java-ii/object-oriented-programming       1    8.0   \n",
       "2018-01-26 09:56:06   slides/object_oriented_programming       1    8.0   \n",
       "2018-01-26 09:56:24            javascript-i/conditionals       2   22.0   \n",
       "\n",
       "                        ipaddress  \n",
       "timestamp                          \n",
       "2018-01-26 09:55:03  97.105.19.61  \n",
       "2018-01-26 09:56:02  97.105.19.61  \n",
       "2018-01-26 09:56:05  97.105.19.61  \n",
       "2018-01-26 09:56:06  97.105.19.61  \n",
       "2018-01-26 09:56:24  97.105.19.61  "
      ]
     },
     "execution_count": 6,
     "metadata": {},
     "output_type": "execute_result"
    }
   ],
   "source": [
    "df.head()"
   ]
  },
  {
   "cell_type": "code",
   "execution_count": 7,
   "metadata": {},
   "outputs": [],
   "source": [
    "df['times_accessed'] = 1"
   ]
  },
  {
   "cell_type": "code",
   "execution_count": 8,
   "metadata": {},
   "outputs": [
    {
     "data": {
      "text/html": [
       "<div>\n",
       "<style scoped>\n",
       "    .dataframe tbody tr th:only-of-type {\n",
       "        vertical-align: middle;\n",
       "    }\n",
       "\n",
       "    .dataframe tbody tr th {\n",
       "        vertical-align: top;\n",
       "    }\n",
       "\n",
       "    .dataframe thead th {\n",
       "        text-align: right;\n",
       "    }\n",
       "</style>\n",
       "<table border=\"1\" class=\"dataframe\">\n",
       "  <thead>\n",
       "    <tr style=\"text-align: right;\">\n",
       "      <th></th>\n",
       "      <th>http</th>\n",
       "      <th>person</th>\n",
       "      <th>group</th>\n",
       "      <th>ipaddress</th>\n",
       "      <th>times_accessed</th>\n",
       "    </tr>\n",
       "    <tr>\n",
       "      <th>timestamp</th>\n",
       "      <th></th>\n",
       "      <th></th>\n",
       "      <th></th>\n",
       "      <th></th>\n",
       "      <th></th>\n",
       "    </tr>\n",
       "  </thead>\n",
       "  <tbody>\n",
       "    <tr>\n",
       "      <th>2018-01-26 09:55:03</th>\n",
       "      <td>/</td>\n",
       "      <td>1</td>\n",
       "      <td>8.0</td>\n",
       "      <td>97.105.19.61</td>\n",
       "      <td>1</td>\n",
       "    </tr>\n",
       "    <tr>\n",
       "      <th>2018-01-26 09:56:02</th>\n",
       "      <td>java-ii</td>\n",
       "      <td>1</td>\n",
       "      <td>8.0</td>\n",
       "      <td>97.105.19.61</td>\n",
       "      <td>1</td>\n",
       "    </tr>\n",
       "    <tr>\n",
       "      <th>2018-01-26 09:56:05</th>\n",
       "      <td>java-ii/object-oriented-programming</td>\n",
       "      <td>1</td>\n",
       "      <td>8.0</td>\n",
       "      <td>97.105.19.61</td>\n",
       "      <td>1</td>\n",
       "    </tr>\n",
       "    <tr>\n",
       "      <th>2018-01-26 09:56:06</th>\n",
       "      <td>slides/object_oriented_programming</td>\n",
       "      <td>1</td>\n",
       "      <td>8.0</td>\n",
       "      <td>97.105.19.61</td>\n",
       "      <td>1</td>\n",
       "    </tr>\n",
       "    <tr>\n",
       "      <th>2018-01-26 09:56:24</th>\n",
       "      <td>javascript-i/conditionals</td>\n",
       "      <td>2</td>\n",
       "      <td>22.0</td>\n",
       "      <td>97.105.19.61</td>\n",
       "      <td>1</td>\n",
       "    </tr>\n",
       "  </tbody>\n",
       "</table>\n",
       "</div>"
      ],
      "text/plain": [
       "                                                    http  person  group  \\\n",
       "timestamp                                                                 \n",
       "2018-01-26 09:55:03                                    /       1    8.0   \n",
       "2018-01-26 09:56:02                              java-ii       1    8.0   \n",
       "2018-01-26 09:56:05  java-ii/object-oriented-programming       1    8.0   \n",
       "2018-01-26 09:56:06   slides/object_oriented_programming       1    8.0   \n",
       "2018-01-26 09:56:24            javascript-i/conditionals       2   22.0   \n",
       "\n",
       "                        ipaddress  times_accessed  \n",
       "timestamp                                          \n",
       "2018-01-26 09:55:03  97.105.19.61               1  \n",
       "2018-01-26 09:56:02  97.105.19.61               1  \n",
       "2018-01-26 09:56:05  97.105.19.61               1  \n",
       "2018-01-26 09:56:06  97.105.19.61               1  \n",
       "2018-01-26 09:56:24  97.105.19.61               1  "
      ]
     },
     "execution_count": 8,
     "metadata": {},
     "output_type": "execute_result"
    }
   ],
   "source": [
    "df.head()"
   ]
  },
  {
   "cell_type": "code",
   "execution_count": 9,
   "metadata": {},
   "outputs": [
    {
     "data": {
      "text/plain": [
       "<matplotlib.axes._subplots.AxesSubplot at 0x1a20e5af98>"
      ]
     },
     "execution_count": 9,
     "metadata": {},
     "output_type": "execute_result"
    },
    {
     "data": {
      "image/png": "[encoded data removed]",
      "text/plain": [
       "<Figure size 432x288 with 1 Axes>"
      ]
     },
     "metadata": {
      "needs_background": "light"
     },
     "output_type": "display_data"
    }
   ],
   "source": [
    "df['times_accessed'].resample('m').sum().plot()"
   ]
  },
  {
   "cell_type": "code",
   "execution_count": 10,
   "metadata": {},
   "outputs": [
    {
     "data": {
      "text/plain": [
       "<matplotlib.axes._subplots.AxesSubplot at 0x1a22ac42e8>"
      ]
     },
     "execution_count": 10,
     "metadata": {},
     "output_type": "execute_result"
    },
    {
     "data": {
      "image/png": "[encoded data removed]",
      "text/plain": [
       "<Figure size 432x288 with 1 Axes>"
      ]
     },
     "metadata": {
      "needs_background": "light"
     },
     "output_type": "display_data"
    }
   ],
   "source": [
    "df['times_accessed'][df.person == 1].resample('m').sum().plot()"
   ]
  },
  {
   "cell_type": "code",
   "execution_count": 11,
   "metadata": {},
   "outputs": [
    {
     "data": {
      "text/plain": [
       "<matplotlib.axes._subplots.AxesSubplot at 0x1a276eae48>"
      ]
     },
     "execution_count": 11,
     "metadata": {},
     "output_type": "execute_result"
    },
    {
     "data": {
      "image/png": "[encoded data removed]",
      "text/plain": [
       "<Figure size 432x288 with 1 Axes>"
      ]
     },
     "metadata": {
      "needs_background": "light"
     },
     "output_type": "display_data"
    }
   ],
   "source": [
    "df['times_accessed'][df.person == 2].resample('m').sum().plot()"
   ]
  },
  {
   "cell_type": "code",
   "execution_count": 12,
   "metadata": {},
   "outputs": [
    {
     "data": {
      "text/plain": [
       "<matplotlib.axes._subplots.AxesSubplot at 0x1a29c28518>"
      ]
     },
     "execution_count": 12,
     "metadata": {},
     "output_type": "execute_result"
    },
    {
     "data": {
      "image/png": "[encoded data removed]",
      "text/plain": [
       "<Figure size 432x288 with 1 Axes>"
      ]
     },
     "metadata": {
      "needs_background": "light"
     },
     "output_type": "display_data"
    }
   ],
   "source": [
    "df['times_accessed'][df.person == 6].resample('m').sum().plot()"
   ]
  },
  {
   "cell_type": "code",
   "execution_count": 13,
   "metadata": {},
   "outputs": [
    {
     "data": {
      "text/plain": [
       "<matplotlib.axes._subplots.AxesSubplot at 0x1a2d3f5c50>"
      ]
     },
     "execution_count": 13,
     "metadata": {},
     "output_type": "execute_result"
    },
    {
     "data": {
      "image/png": "[encoded data removed]",
      "text/plain": [
       "<Figure size 432x288 with 1 Axes>"
      ]
     },
     "metadata": {
      "needs_background": "light"
     },
     "output_type": "display_data"
    }
   ],
   "source": [
    "df['times_accessed'][df.person == 7].resample('m').sum().plot()"
   ]
  },
  {
   "cell_type": "code",
   "execution_count": 14,
   "metadata": {},
   "outputs": [
    {
     "data": {
      "text/plain": [
       "<matplotlib.axes._subplots.AxesSubplot at 0x1a21fa5048>"
      ]
     },
     "execution_count": 14,
     "metadata": {},
     "output_type": "execute_result"
    },
    {
     "data": {
      "image/png": "[encoded data removed]",
      "text/plain": [
       "<Figure size 432x288 with 1 Axes>"
      ]
     },
     "metadata": {
      "needs_background": "light"
     },
     "output_type": "display_data"
    }
   ],
   "source": [
    "df['times_accessed'][df.person == 3].resample('m').sum().plot()"
   ]
  },
  {
   "cell_type": "code",
   "execution_count": 15,
   "metadata": {},
   "outputs": [
    {
     "data": {
      "text/plain": [
       "<matplotlib.axes._subplots.AxesSubplot at 0x1a23d92278>"
      ]
     },
     "execution_count": 15,
     "metadata": {},
     "output_type": "execute_result"
    },
    {
     "data": {
      "image/png": "[encoded data removed]",
      "text/plain": [
       "<Figure size 432x288 with 1 Axes>"
      ]
     },
     "metadata": {
      "needs_background": "light"
     },
     "output_type": "display_data"
    }
   ],
   "source": [
    "df['times_accessed'][df.person == 4].resample('m').sum().plot()"
   ]
  },
  {
   "cell_type": "code",
   "execution_count": 16,
   "metadata": {},
   "outputs": [
    {
     "data": {
      "text/plain": [
       "<matplotlib.axes._subplots.AxesSubplot at 0x1a211fe160>"
      ]
     },
     "execution_count": 16,
     "metadata": {},
     "output_type": "execute_result"
    },
    {
     "data": {
      "image/png": "[encoded data removed]",
      "text/plain": [
       "<Figure size 432x288 with 1 Axes>"
      ]
     },
     "metadata": {
      "needs_background": "light"
     },
     "output_type": "display_data"
    }
   ],
   "source": [
    "df['times_accessed'][df.person == 5].resample('m').sum().plot()"
   ]
  },
  {
   "cell_type": "code",
   "execution_count": 17,
   "metadata": {},
   "outputs": [
    {
     "data": {
      "text/plain": [
       "<matplotlib.axes._subplots.AxesSubplot at 0x1a25cb82b0>"
      ]
     },
     "execution_count": 17,
     "metadata": {},
     "output_type": "execute_result"
    },
    {
     "data": {
      "image/png": "[encoded data removed]",
      "text/plain": [
       "<Figure size 432x288 with 1 Axes>"
      ]
     },
     "metadata": {
      "needs_background": "light"
     },
     "output_type": "display_data"
    }
   ],
   "source": [
    "df['times_accessed'][df.person == 8].resample('m').sum().plot()"
   ]
  },
  {
   "cell_type": "code",
   "execution_count": 18,
   "metadata": {},
   "outputs": [
    {
     "data": {
      "text/plain": [
       "<matplotlib.axes._subplots.AxesSubplot at 0x1a25cc4748>"
      ]
     },
     "execution_count": 18,
     "metadata": {},
     "output_type": "execute_result"
    },
    {
     "data": {
      "image/png": "[encoded data removed]",
      "text/plain": [
       "<Figure size 432x288 with 1 Axes>"
      ]
     },
     "metadata": {
      "needs_background": "light"
     },
     "output_type": "display_data"
    }
   ],
   "source": [
    "df['times_accessed'][df.person == 9].resample('m').sum().plot()"
   ]
  },
  {
   "cell_type": "code",
   "execution_count": 19,
   "metadata": {},
   "outputs": [
    {
     "data": {
      "text/plain": [
       "<matplotlib.axes._subplots.AxesSubplot at 0x1a27ee06a0>"
      ]
     },
     "execution_count": 19,
     "metadata": {},
     "output_type": "execute_result"
    },
    {
     "data": {
      "image/png": "[encoded data removed]",
      "text/plain": [
       "<Figure size 432x288 with 1 Axes>"
      ]
     },
     "metadata": {
      "needs_background": "light"
     },
     "output_type": "display_data"
    }
   ],
   "source": [
    "df['times_accessed'][df.person == 10].resample('m').sum().plot()"
   ]
  },
  {
   "cell_type": "code",
   "execution_count": 20,
   "metadata": {},
   "outputs": [
    {
     "data": {
      "text/plain": [
       "<matplotlib.axes._subplots.AxesSubplot at 0x1a20f8dac8>"
      ]
     },
     "execution_count": 20,
     "metadata": {},
     "output_type": "execute_result"
    },
    {
     "data": {
      "image/png": "[encoded data removed]",
      "text/plain": [
       "<Figure size 432x288 with 1 Axes>"
      ]
     },
     "metadata": {
      "needs_background": "light"
     },
     "output_type": "display_data"
    }
   ],
   "source": [
    "df['times_accessed'][df.person == 1].resample('m').sum().plot()"
   ]
  },
  {
   "cell_type": "code",
   "execution_count": 21,
   "metadata": {},
   "outputs": [],
   "source": [
    "total = set(df.group)"
   ]
  },
  {
   "cell_type": "code",
   "execution_count": 22,
   "metadata": {},
   "outputs": [
    {
     "data": {
      "text/plain": [
       "{0.0,\n",
       " 1.0,\n",
       " 6.0,\n",
       " 11.0,\n",
       " 14.0,\n",
       " 15.0,\n",
       " 16.0,\n",
       " 17.0,\n",
       " 18.0,\n",
       " 21.0,\n",
       " 22.0,\n",
       " 23.0,\n",
       " 24.0,\n",
       " 25.0,\n",
       " 26.0,\n",
       " 27.0,\n",
       " 28.0,\n",
       " 29.0,\n",
       " 31.0,\n",
       " 32.0,\n",
       " 33.0,\n",
       " 51.0}"
      ]
     },
     "execution_count": 22,
     "metadata": {},
     "output_type": "execute_result"
    }
   ],
   "source": [
    "webdev = list(df.group[df.http == 'javascript-i/bom-and-dom/dom-events'].unique())\n",
    "[webdev.append(value) for value in list(df.group[df.http == 'javascript-i/introduction/working-with-data-ty...'].unique())]\n",
    "set(webdev)"
   ]
  },
  {
   "cell_type": "code",
   "execution_count": 23,
   "metadata": {},
   "outputs": [
    {
     "data": {
      "text/plain": [
       "[22.0,\n",
       " 21.0,\n",
       " 14.0,\n",
       " 1.0,\n",
       " 0.0,\n",
       " 23.0,\n",
       " 18.0,\n",
       " 24.0,\n",
       " 16.0,\n",
       " 25.0,\n",
       " 15.0,\n",
       " 26.0,\n",
       " 6.0,\n",
       " 17.0,\n",
       " 27.0,\n",
       " 28.0,\n",
       " 29.0,\n",
       " 31.0,\n",
       " 32.0,\n",
       " 11.0,\n",
       " 33.0,\n",
       " 51.0]"
      ]
     },
     "execution_count": 23,
     "metadata": {},
     "output_type": "execute_result"
    }
   ],
   "source": [
    "webdev"
   ]
  },
  {
   "cell_type": "code",
   "execution_count": 24,
   "metadata": {},
   "outputs": [],
   "source": [
    "other = [group for group in total if group not in webdev]  \n",
    "other = set(other)"
   ]
  },
  {
   "cell_type": "code",
   "execution_count": 25,
   "metadata": {},
   "outputs": [],
   "source": [
    "ds = set(df.group[df.http == '1-fundamentals/1.1-intro-to-data-science'])"
   ]
  },
  {
   "cell_type": "code",
   "execution_count": 26,
   "metadata": {},
   "outputs": [],
   "source": [
    "ds = [group for group in ds if group not in webdev]"
   ]
  },
  {
   "cell_type": "code",
   "execution_count": 27,
   "metadata": {},
   "outputs": [
    {
     "data": {
      "text/plain": [
       "[34.0, 7.0]"
      ]
     },
     "execution_count": 27,
     "metadata": {},
     "output_type": "execute_result"
    }
   ],
   "source": [
    "ds"
   ]
  },
  {
   "cell_type": "code",
   "execution_count": 28,
   "metadata": {},
   "outputs": [
    {
     "data": {
      "text/plain": [
       "timestamp\n",
       "2019-11-18 15:52:31               8-clustering/4-explore\n",
       "2019-11-18 15:52:38              7-classification/3-prep\n",
       "2019-11-18 15:53:12    6-regression/2.0-acquire-and-prep\n",
       "2019-11-18 15:53:51    9-timeseries/5.1-modeling-lesson1\n",
       "2019-11-18 15:54:44                  9-timeseries/3-prep\n",
       "2019-11-18 15:54:44              9-timeseries/1-overview\n",
       "2019-11-18 15:54:45               9-timeseries/4-explore\n",
       "2019-11-18 15:56:30    9-timeseries/5.1-modeling-lesson1\n",
       "2019-11-18 15:56:55    9-timeseries/5.1-modeling-lesson1\n",
       "2019-11-18 15:57:55               9-timeseries/4-explore\n",
       "2019-11-18 16:07:23    9-timeseries/5.1-modeling-lesson1\n",
       "2019-11-18 16:15:35    9-timeseries/5.1-modeling-lesson1\n",
       "2019-11-18 16:15:55                                    /\n",
       "2019-11-18 16:16:07    9-timeseries/5.1-modeling-lesson1\n",
       "2019-11-18 16:18:43    9-timeseries/5.1-modeling-lesson1\n",
       "2019-11-18 16:21:21               9-timeseries/4-explore\n",
       "2019-11-18 16:22:28    9-timeseries/5.1-modeling-lesson1\n",
       "2019-11-18 16:23:12    9-timeseries/5.2-modeling-lesson2\n",
       "2019-11-18 16:23:27    9-timeseries/5.1-modeling-lesson1\n",
       "2019-11-18 16:23:31    9-timeseries/5.1-modeling-lesson1\n",
       "2019-11-18 16:25:56    9-timeseries/5.1-modeling-lesson1\n",
       "2019-11-18 16:26:17              9-timeseries/5-modeling\n",
       "2019-11-18 16:26:26              9-timeseries/5-modeling\n",
       "2019-11-18 16:26:36    9-timeseries/5.2-modeling-lesson2\n",
       "2019-11-18 16:26:40    9-timeseries/5.1-modeling-lesson1\n",
       "2019-11-18 16:27:06    9-timeseries/5.1-modeling-lesson1\n",
       "2019-11-18 16:27:13    9-timeseries/5.2-modeling-lesson2\n",
       "2019-11-18 16:27:16    9-timeseries/5.1-modeling-lesson1\n",
       "2019-11-18 16:27:18    9-timeseries/5.1-modeling-lesson1\n",
       "2019-11-18 16:27:58                 9-timeseries/project\n",
       "                                     ...                \n",
       "2019-11-19 09:14:50              6-regression/1-overview\n",
       "2019-11-19 09:14:58    9-timeseries/5.2-modeling-lesson2\n",
       "2019-11-19 09:15:07    9-timeseries/5.2-modeling-lesson2\n",
       "2019-11-19 09:16:41                 9-timeseries/project\n",
       "2019-11-19 09:17:12                 9-timeseries/project\n",
       "2019-11-19 09:17:17                 9-timeseries/project\n",
       "2019-11-19 09:17:19                 9-timeseries/project\n",
       "2019-11-19 09:17:26                 9-timeseries/project\n",
       "2019-11-19 09:17:29                 9-timeseries/project\n",
       "2019-11-19 09:17:33    9-timeseries/5.2-modeling-lesson2\n",
       "2019-11-19 09:17:34                 9-timeseries/project\n",
       "2019-11-19 09:17:38                 9-timeseries/project\n",
       "2019-11-19 09:17:46                 9-timeseries/project\n",
       "2019-11-19 09:18:42                 9-timeseries/project\n",
       "2019-11-19 09:19:40                                    /\n",
       "2019-11-19 09:19:51                 9-timeseries/project\n",
       "2019-11-19 09:21:17                 9-timeseries/project\n",
       "2019-11-19 09:25:05                 9-timeseries/project\n",
       "2019-11-19 09:28:08    9-timeseries/5.1-modeling-lesson1\n",
       "2019-11-19 09:28:47                                    /\n",
       "2019-11-19 09:31:40                 9-timeseries/project\n",
       "2019-11-19 09:32:35                 9-timeseries/project\n",
       "2019-11-19 09:43:23                 9-timeseries/project\n",
       "2019-11-19 09:44:51                 9-timeseries/project\n",
       "2019-11-19 10:01:40    9-timeseries/5.1-modeling-lesson1\n",
       "2019-11-19 10:02:38                  9-timeseries/3-prep\n",
       "2019-11-19 10:03:01               9-timeseries/2-acquire\n",
       "2019-11-19 10:05:00                 9-timeseries/project\n",
       "2019-11-19 10:07:03               8-clustering/3-wrangle\n",
       "2019-11-19 10:07:07           7-classification/2-acquire\n",
       "Name: http, Length: 100, dtype: object"
      ]
     },
     "execution_count": 28,
     "metadata": {},
     "output_type": "execute_result"
    }
   ],
   "source": [
    "df.http[df.group==34].tail(100)"
   ]
  },
  {
   "cell_type": "code",
   "execution_count": 29,
   "metadata": {},
   "outputs": [
    {
     "data": {
      "text/plain": [
       "timestamp\n",
       "2019-07-15 15:39:34                                   /\n",
       "2019-07-15 15:39:48                                 toc\n",
       "2019-07-15 15:40:29                                quiz\n",
       "2019-07-15 15:40:33                                   /\n",
       "2019-07-15 15:40:35                        javascript-i\n",
       "2019-07-15 15:40:55                              spring\n",
       "2019-07-15 15:40:58                              java-i\n",
       "2019-07-15 15:41:06                        javascript-i\n",
       "2019-07-15 15:41:14                            java-iii\n",
       "2019-07-15 15:41:18                             java-ii\n",
       "2019-07-15 15:41:19                                   /\n",
       "2019-07-15 15:41:59                                   /\n",
       "2019-07-15 15:42:11                                 toc\n",
       "2019-07-15 15:42:22                                   /\n",
       "2019-07-15 15:42:29                                   /\n",
       "2019-07-15 15:42:44                            html-css\n",
       "2019-07-15 15:43:11                                   /\n",
       "2019-07-15 15:44:04                                   /\n",
       "2019-07-15 15:44:30                                   /\n",
       "2019-07-15 15:44:47                                   /\n",
       "2019-07-15 15:45:11                                   /\n",
       "2019-07-15 15:47:05                          index.html\n",
       "2019-07-15 15:47:20                            html-css\n",
       "2019-07-15 15:47:24                                 toc\n",
       "2019-07-15 15:47:30               html-css/introduction\n",
       "2019-07-15 15:47:39                                 toc\n",
       "2019-07-15 15:48:49                                   /\n",
       "2019-07-15 15:50:29                                   /\n",
       "2019-07-15 15:55:39                                   /\n",
       "2019-07-15 15:55:49                                   /\n",
       "                                     ...               \n",
       "2019-07-15 16:03:22                                   /\n",
       "2019-07-15 16:03:37    javascript-i/arrays/manipulating\n",
       "2019-07-15 16:03:51                                 toc\n",
       "2019-07-15 16:04:18                            html-css\n",
       "2019-07-15 16:05:04               html-css/introduction\n",
       "2019-07-15 16:09:05                            html-css\n",
       "2019-07-15 16:09:20                              java-i\n",
       "2019-07-15 16:09:22                             java-ii\n",
       "2019-07-15 16:09:27                            java-iii\n",
       "2019-07-15 16:09:32                               mysql\n",
       "2019-07-15 16:09:33                       java-iii/jdbc\n",
       "2019-07-15 16:09:37                       javascript-ii\n",
       "2019-07-15 16:09:40                              jquery\n",
       "2019-07-15 16:09:43                        javascript-i\n",
       "2019-07-15 16:09:46                               mysql\n",
       "2019-07-15 16:09:49                            appendix\n",
       "2019-07-15 16:09:59                            java-iii\n",
       "2019-07-15 16:10:01                                 toc\n",
       "2019-07-15 16:10:58                   html-css/elements\n",
       "2019-07-15 16:11:33               html-css/introduction\n",
       "2019-07-15 16:11:34                            html-css\n",
       "2019-07-15 16:11:53                                 toc\n",
       "2019-07-15 16:11:54                            html-css\n",
       "2019-07-15 16:12:18               html-css/introduction\n",
       "2019-07-15 16:17:50               html-css/introduction\n",
       "2019-07-15 16:19:43                              jquery\n",
       "2019-07-15 16:19:46                               mysql\n",
       "2019-07-15 16:19:51                  mysql/introduction\n",
       "2019-07-15 16:20:02              mysql/basic-statements\n",
       "2019-07-15 16:20:59           mysql/relationships/joins\n",
       "Name: http, Length: 100, dtype: object"
      ]
     },
     "execution_count": 29,
     "metadata": {},
     "output_type": "execute_result"
    }
   ],
   "source": [
    "df.http[df.group==33].head(100)"
   ]
  },
  {
   "cell_type": "code",
   "execution_count": 30,
   "metadata": {},
   "outputs": [],
   "source": [
    "#ifull(df.http[df.group==32])"
   ]
  },
  {
   "cell_type": "code",
   "execution_count": 31,
   "metadata": {},
   "outputs": [
    {
     "data": {
      "text/plain": [
       "array([466, 467, 468, 469, 470, 471, 472, 473, 474, 475, 476, 477, 478,\n",
       "       479, 480, 481, 482, 483, 484, 485, 358, 487])"
      ]
     },
     "execution_count": 31,
     "metadata": {},
     "output_type": "execute_result"
    }
   ],
   "source": [
    "df.person[df.group==34].unique()"
   ]
  },
  {
   "cell_type": "code",
   "execution_count": 32,
   "metadata": {},
   "outputs": [],
   "source": [
    "def ifull(obj):\n",
    "    with pd.option_context('display.max_rows', None, 'display.max_columns', None):  # more options can be specified also\n",
    "        display(obj)\n",
    "\n",
    "\n"
   ]
  },
  {
   "cell_type": "code",
   "execution_count": 33,
   "metadata": {},
   "outputs": [],
   "source": [
    "data_science_list = list(set(df.http[df.person==473].unique()))"
   ]
  },
  {
   "cell_type": "code",
   "execution_count": 34,
   "metadata": {},
   "outputs": [
    {
     "data": {
      "text/plain": [
       "array([433, 434, 435, 436, 437, 438, 439, 440, 441, 442, 443, 444, 445,\n",
       "       446, 447, 448, 449, 450, 451, 452, 453, 454, 455, 456, 457, 458,\n",
       "       460, 515, 543])"
      ]
     },
     "execution_count": 34,
     "metadata": {},
     "output_type": "execute_result"
    }
   ],
   "source": [
    "df.person[df.group==33].unique()"
   ]
  },
  {
   "cell_type": "code",
   "execution_count": 35,
   "metadata": {},
   "outputs": [],
   "source": [
    "web_development = list(set(df.http[df.person==435]))"
   ]
  },
  {
   "cell_type": "code",
   "execution_count": 36,
   "metadata": {},
   "outputs": [
    {
     "data": {
      "text/plain": [
       "array([  1,   2,   3,   4,   5,   6,   7,   8,   9,  10,  11,  12,  13,\n",
       "        14,  15,  16,  17,  18,  19,  20,  21,  22,  23,  24,  25,  26,\n",
       "        27,  28,  29,  30,  31,  32,  33,  34,  35,  36,  37,  38,  39,\n",
       "        40,  41,  42,  43,  44,  45,  46,  47,  48,  49,  50,  51,  52,\n",
       "        53,  54,  55,  56,  57,  58,  59,  60,  61,  62,  63,  64,  65,\n",
       "        66,  67,  68,  69,  70,  71,  72,  73,  74,  75,  76,  77,  78,\n",
       "        79,  80,  81,  82,  83,  84,  85,  86,  87,  88,  89,  90,  91,\n",
       "        92,  93,  94,  95,  96,  97,  98,  99, 100, 101, 102, 103, 104,\n",
       "       105, 106, 107, 108, 109, 110, 111, 112, 113, 114, 115, 116, 117,\n",
       "       118, 119, 120, 121, 122, 123, 124, 125, 126, 127, 128, 129, 130,\n",
       "       131, 132, 133, 134, 135, 136, 137, 138, 139, 140, 141, 142, 143,\n",
       "       144, 145, 146, 147, 148, 149, 150, 151, 152, 153, 154, 155, 156,\n",
       "       157, 158, 159, 160, 161, 162, 163, 164, 165, 166, 167, 168, 169,\n",
       "       170, 171, 172, 173, 174, 175, 176, 177, 178, 179, 180, 181, 182,\n",
       "       183, 184, 185, 186, 187, 188, 189, 190, 191, 192, 193, 194, 195,\n",
       "       196, 197, 198, 199, 200, 201, 202, 203, 204, 205, 206, 207, 208,\n",
       "       209, 210, 211, 212, 213, 214, 215, 216, 217, 218, 219, 220, 221,\n",
       "       222, 223, 224, 225, 226, 227, 228, 229, 230, 231, 232, 233, 234,\n",
       "       235, 236, 237, 238, 239, 240, 241, 242, 243, 244, 245, 246, 247,\n",
       "       248, 249, 250, 251, 252, 253, 254, 255, 256, 257, 258, 259, 260,\n",
       "       261, 262, 263, 264, 265, 266, 267, 268, 269, 270, 271, 272, 273,\n",
       "       274, 275, 276, 277, 278, 279, 280, 281, 282, 283, 284, 285, 286,\n",
       "       287, 288, 289, 290, 291, 292, 293, 294, 295, 296, 297, 298, 299,\n",
       "       300, 301, 302, 303, 304, 305, 306, 307, 308, 309, 310, 311, 312,\n",
       "       313, 314, 315, 316, 317, 318, 319, 320, 321, 322, 323, 324, 325,\n",
       "       326, 327, 328, 329, 330, 331, 332, 333, 334, 335, 336, 337, 338,\n",
       "       339, 340, 341, 342, 343, 344, 345, 346, 347, 348, 349, 350, 351,\n",
       "       352, 353, 354, 355, 356, 357, 358, 359, 360, 361, 362, 363, 364,\n",
       "       365, 366, 367, 368, 369, 370, 371, 372, 373, 374, 375, 376, 377,\n",
       "       378, 379, 380, 381, 382, 383, 384, 385, 386, 387, 388, 389, 390,\n",
       "       391, 392, 393, 394, 395, 396, 397, 398, 399, 400, 401, 402, 403,\n",
       "       404, 405, 406, 407, 408, 409, 410, 411, 412, 413, 414, 415, 416,\n",
       "       417, 418, 419, 420, 421, 422, 423, 424, 425, 426, 427, 428, 429,\n",
       "       430, 431, 432, 433, 434, 435, 436, 437, 438, 439, 440, 441, 442,\n",
       "       443, 444, 445, 446, 447, 448, 449, 450, 451, 452, 453, 454, 455,\n",
       "       456, 457, 458, 459, 460, 461, 462, 463, 464, 465, 466, 467, 468,\n",
       "       469, 470, 471, 472, 473, 474, 475, 476, 477, 478, 479, 480, 481,\n",
       "       482, 483, 484, 485, 486, 487, 488, 489, 490, 491, 492, 493, 494,\n",
       "       495, 496, 497, 498, 499, 500, 501, 502, 503, 504, 505, 506, 507,\n",
       "       508, 509, 510, 511, 512, 513, 514, 515, 516, 517, 518, 519, 520,\n",
       "       521, 522, 523, 524, 525, 526, 527, 528, 529, 530, 531, 532, 533,\n",
       "       534, 535, 536, 537, 538, 539, 540, 541, 542, 543])"
      ]
     },
     "metadata": {},
     "output_type": "display_data"
    }
   ],
   "source": [
    "ifull(df.person.unique())"
   ]
  },
  {
   "cell_type": "code",
   "execution_count": 37,
   "metadata": {},
   "outputs": [],
   "source": [
    "person_1 = set(df.http[df.person==1])"
   ]
  },
  {
   "cell_type": "code",
   "execution_count": 38,
   "metadata": {},
   "outputs": [
    {
     "name": "stdout",
     "output_type": "stream",
     "text": [
      "Person number is: 1.\n",
      "Group number is: {8.0, 28.0}.\n",
      "Data Science score: 98.\n",
      "Web Development score: 118.\n"
     ]
    }
   ],
   "source": [
    "data_science_list = set(df.http[df.person==473])\n",
    "\n",
    "web_development = set(df.http[df.person==435])\n",
    "\n",
    "ds_score = 0\n",
    "\n",
    "wd_score = 0\n",
    "\n",
    "person = 1\n",
    "\n",
    "person_1 = set(df.http[df.person==1])\n",
    "\n",
    "group_number = set(df.group[df.person==1].unique())\n",
    "\n",
    "for http in data_science_list:\n",
    "    if http in person_1:\n",
    "        ds_score += 1\n",
    "        \n",
    "for http in web_development:\n",
    "    if http in person_1:\n",
    "        wd_score += 1\n",
    "        \n",
    "\n",
    "print(f\"Person number is: {person}.\")        \n",
    "print(f\"Group number is: {group_number}.\")\n",
    "print(f\"Data Science score: {ds_score}.\")\n",
    "print(f\"Web Development score: {wd_score}.\")"
   ]
  },
  {
   "cell_type": "code",
   "execution_count": 39,
   "metadata": {},
   "outputs": [],
   "source": [
    "def get_stats():\n",
    "    \n",
    "    data_science_list = set(df.http[df.person==473])\n",
    "\n",
    "    web_development = set(df.http[df.person==435])\n",
    "\n",
    "    for number in range(1,543):\n",
    "        \n",
    "        ds_score = 0\n",
    "\n",
    "        wd_score = 0\n",
    "        \n",
    "        person = list(set(df.person[df.person==number]))\n",
    "        \n",
    "        group_number = list(set(df.group[df.person==number].unique()))\n",
    "        \n",
    "        person_list = set(df.http[df.person==number])\n",
    "        \n",
    "        for http in data_science_list:\n",
    "            if http in person_list:\n",
    "                ds_score += 1\n",
    "        \n",
    "        for http in web_development:\n",
    "            if http in person_list:\n",
    "                wd_score += 1\n",
    "        \n",
    "        if 1.0 in group_number:\n",
    "            \n",
    "            print(f\"Person number is: {person}.\")        \n",
    "            print(f\"Group number is: {group_number}.\")\n",
    "            print(f\"Data Science score: {ds_score}.\")\n",
    "            print(f\"Web Development score: {wd_score}.\")\n",
    "            print(\"\")"
   ]
  },
  {
   "cell_type": "code",
   "execution_count": 40,
   "metadata": {},
   "outputs": [
    {
     "name": "stdout",
     "output_type": "stream",
     "text": [
      "Person number is: [11].\n",
      "Group number is: [1.0, 28.0].\n",
      "Data Science score: 98.\n",
      "Web Development score: 141.\n",
      "\n",
      "Person number is: [60].\n",
      "Group number is: [1.0].\n",
      "Data Science score: 1.\n",
      "Web Development score: 102.\n",
      "\n",
      "Person number is: [64].\n",
      "Group number is: [1.0, 28.0].\n",
      "Data Science score: 8.\n",
      "Web Development score: 146.\n",
      "\n",
      "Person number is: [95].\n",
      "Group number is: [1.0].\n",
      "Data Science score: 1.\n",
      "Web Development score: 5.\n",
      "\n",
      "Person number is: [141].\n",
      "Group number is: [1.0].\n",
      "Data Science score: 1.\n",
      "Web Development score: 2.\n",
      "\n",
      "Person number is: [146].\n",
      "Group number is: [1.0, 28.0].\n",
      "Data Science score: 23.\n",
      "Web Development score: 41.\n",
      "\n",
      "Person number is: [148].\n",
      "Group number is: [1.0].\n",
      "Data Science score: 1.\n",
      "Web Development score: 16.\n",
      "\n",
      "Person number is: [170].\n",
      "Group number is: [1.0].\n",
      "Data Science score: 1.\n",
      "Web Development score: 16.\n",
      "\n",
      "Person number is: [209].\n",
      "Group number is: [1.0].\n",
      "Data Science score: 1.\n",
      "Web Development score: 1.\n",
      "\n",
      "Person number is: [211].\n",
      "Group number is: [1.0, 28.0].\n",
      "Data Science score: 2.\n",
      "Web Development score: 136.\n",
      "\n",
      "Person number is: [212].\n",
      "Group number is: [1.0].\n",
      "Data Science score: 0.\n",
      "Web Development score: 0.\n",
      "\n",
      "Person number is: [248].\n",
      "Group number is: [1.0, 28.0].\n",
      "Data Science score: 85.\n",
      "Web Development score: 18.\n",
      "\n",
      "Person number is: [257].\n",
      "Group number is: [1.0, 28.0].\n",
      "Data Science score: 3.\n",
      "Web Development score: 32.\n",
      "\n",
      "Person number is: [312].\n",
      "Group number is: [1.0, 28.0].\n",
      "Data Science score: 1.\n",
      "Web Development score: 48.\n",
      "\n",
      "Person number is: [313].\n",
      "Group number is: [1.0].\n",
      "Data Science score: 1.\n",
      "Web Development score: 117.\n",
      "\n",
      "Person number is: [316].\n",
      "Group number is: [1.0].\n",
      "Data Science score: 1.\n",
      "Web Development score: 9.\n",
      "\n",
      "Person number is: [398].\n",
      "Group number is: [1.0].\n",
      "Data Science score: 1.\n",
      "Web Development score: 41.\n",
      "\n",
      "Person number is: [402].\n",
      "Group number is: [1.0].\n",
      "Data Science score: 1.\n",
      "Web Development score: 7.\n",
      "\n"
     ]
    }
   ],
   "source": [
    "get_stats()"
   ]
  },
  {
   "cell_type": "code",
   "execution_count": 41,
   "metadata": {},
   "outputs": [
    {
     "name": "stdout",
     "output_type": "stream",
     "text": [
      "Data Science: 119\n",
      "Web Development: 150\n"
     ]
    }
   ],
   "source": [
    "data_science_list = set(df.http[df.person==473])\n",
    "\n",
    "web_development = set(df.http[df.person==435])\n",
    "\n",
    "print(f\"Data Science: {len(data_science_list)}\")\n",
    "print(f\"Web Development: {len(web_development)}\")"
   ]
  },
  {
   "cell_type": "code",
   "execution_count": 42,
   "metadata": {},
   "outputs": [
    {
     "data": {
      "text/plain": [
       "array([466, 467, 468, 469, 470, 471, 472, 473, 474, 475, 476, 477, 478,\n",
       "       479, 480, 481, 482, 483, 484, 485, 358, 487])"
      ]
     },
     "execution_count": 42,
     "metadata": {},
     "output_type": "execute_result"
    }
   ],
   "source": [
    "df_34 = df[df.group==34]\n",
    "df_34.person.unique()"
   ]
  },
  {
   "cell_type": "code",
   "execution_count": 43,
   "metadata": {},
   "outputs": [
    {
     "data": {
      "text/plain": [
       "<matplotlib.legend.Legend at 0x1a27311320>"
      ]
     },
     "execution_count": 43,
     "metadata": {},
     "output_type": "execute_result"
    },
    {
     "data": {
      "image/png": "[encoded data removed]",
      "text/plain": [
       "<Figure size 432x288 with 1 Axes>"
      ]
     },
     "metadata": {
      "needs_background": "light"
     },
     "output_type": "display_data"
    }
   ],
   "source": [
    "df['times_accessed'][df.person == 466].resample('m').sum().plot()\n",
    "df['times_accessed'][df.person == 467].resample('m').sum().plot()\n",
    "df['times_accessed'][df.person == 468].resample('m').sum().plot()\n",
    "df['times_accessed'][df.person == 469].resample('m').sum().plot()\n",
    "df['times_accessed'][df.person == 470].resample('m').sum().plot()\n",
    "df['times_accessed'][df.person == 471].resample('m').sum().plot()\n",
    "df['times_accessed'][df.person == 472].resample('m').sum().plot()\n",
    "df['times_accessed'][df.person == 473].resample('m').sum().plot()\n",
    "df['times_accessed'][df.person == 474].resample('m').sum().plot()\n",
    "df['times_accessed'][df.person == 475].resample('m').sum().plot()\n",
    "df['times_accessed'][df.person == 476].resample('m').sum().plot()\n",
    "df['times_accessed'][df.person == 477].resample('m').sum().plot()\n",
    "df['times_accessed'][df.person == 478].resample('m').sum().plot()\n",
    "df['times_accessed'][df.person == 479].resample('m').sum().plot()\n",
    "df['times_accessed'][df.person == 480].resample('m').sum().plot()\n",
    "df['times_accessed'][df.person == 481].resample('m').sum().plot()\n",
    "df['times_accessed'][df.person == 482].resample('m').sum().plot()\n",
    "df['times_accessed'][df.person == 483].resample('m').sum().plot()\n",
    "df['times_accessed'][df.person == 484].resample('m').sum().plot()\n",
    "df['times_accessed'][df.person == 485].resample('m').sum().plot()\n",
    "df['times_accessed'][df.person == 358].resample('m').sum().plot()\n",
    "df['times_accessed'][df.person == 487].resample('m').sum().plot()\n",
    "plt.legend(['466', '467', '468', '469', '470', '471', '472', '473', '474', '475', '476', '477', '478','479', '480', '481', '482', '483', '484', '485', '358', '487'])"
   ]
  },
  {
   "cell_type": "code",
   "execution_count": 44,
   "metadata": {},
   "outputs": [
    {
     "data": {
      "text/plain": [
       "<matplotlib.axes._subplots.AxesSubplot at 0x1a2a31c358>"
      ]
     },
     "execution_count": 44,
     "metadata": {},
     "output_type": "execute_result"
    },
    {
     "data": {
      "image/png": "[encoded data removed]",
      "text/plain": [
       "<Figure size 432x288 with 1 Axes>"
      ]
     },
     "metadata": {
      "needs_background": "light"
     },
     "output_type": "display_data"
    }
   ],
   "source": [
    "df['times_accessed'][df.person == 358].resample('m').sum().plot()"
   ]
  },
  {
   "cell_type": "code",
   "execution_count": 45,
   "metadata": {},
   "outputs": [
    {
     "data": {
      "text/plain": [
       "<matplotlib.axes._subplots.AxesSubplot at 0x1a2a5e15c0>"
      ]
     },
     "execution_count": 45,
     "metadata": {},
     "output_type": "execute_result"
    },
    {
     "data": {
      "image/png": "[encoded data removed]",
      "text/plain": [
       "<Figure size 432x288 with 1 Axes>"
      ]
     },
     "metadata": {
      "needs_background": "light"
     },
     "output_type": "display_data"
    }
   ],
   "source": [
    "df['times_accessed'][df.person == 146].resample('m').sum().plot()"
   ]
  },
  {
   "cell_type": "code",
   "execution_count": 46,
   "metadata": {},
   "outputs": [
    {
     "data": {
      "text/plain": [
       "{0.0,\n",
       " 1.0,\n",
       " 2.0,\n",
       " 4.0,\n",
       " 6.0,\n",
       " 7.0,\n",
       " 8.0,\n",
       " 9.0,\n",
       " 11.0,\n",
       " 12.0,\n",
       " 13.0,\n",
       " 14.0,\n",
       " 15.0,\n",
       " 16.0,\n",
       " 17.0,\n",
       " 18.0,\n",
       " 19.0,\n",
       " 21.0,\n",
       " 22.0,\n",
       " 23.0,\n",
       " 24.0,\n",
       " 25.0,\n",
       " 26.0,\n",
       " 27.0,\n",
       " 28.0,\n",
       " 29.0,\n",
       " 31.0,\n",
       " 32.0,\n",
       " 33.0,\n",
       " 34.0,\n",
       " 51.0,\n",
       " 52.0}"
      ]
     },
     "execution_count": 46,
     "metadata": {},
     "output_type": "execute_result"
    }
   ],
   "source": [
    "set(df.group)"
   ]
  },
  {
   "cell_type": "code",
   "execution_count": 47,
   "metadata": {},
   "outputs": [
    {
     "data": {
      "text/html": [
       "<div>\n",
       "<style scoped>\n",
       "    .dataframe tbody tr th:only-of-type {\n",
       "        vertical-align: middle;\n",
       "    }\n",
       "\n",
       "    .dataframe tbody tr th {\n",
       "        vertical-align: top;\n",
       "    }\n",
       "\n",
       "    .dataframe thead th {\n",
       "        text-align: right;\n",
       "    }\n",
       "</style>\n",
       "<table border=\"1\" class=\"dataframe\">\n",
       "  <thead>\n",
       "    <tr style=\"text-align: right;\">\n",
       "      <th></th>\n",
       "      <th>http</th>\n",
       "      <th>person</th>\n",
       "      <th>group</th>\n",
       "      <th>ipaddress</th>\n",
       "      <th>times_accessed</th>\n",
       "    </tr>\n",
       "    <tr>\n",
       "      <th>timestamp</th>\n",
       "      <th></th>\n",
       "      <th></th>\n",
       "      <th></th>\n",
       "      <th></th>\n",
       "      <th></th>\n",
       "    </tr>\n",
       "  </thead>\n",
       "  <tbody>\n",
       "  </tbody>\n",
       "</table>\n",
       "</div>"
      ],
      "text/plain": [
       "Empty DataFrame\n",
       "Columns: [http, person, group, ipaddress, times_accessed]\n",
       "Index: []"
      ]
     },
     "execution_count": 47,
     "metadata": {},
     "output_type": "execute_result"
    }
   ],
   "source": [
    "lst = df[df.group== \"34.0\"]\n",
    "lst"
   ]
  },
  {
   "cell_type": "code",
   "execution_count": 51,
   "metadata": {},
   "outputs": [
    {
     "ename": "TypeError",
     "evalue": "Empty 'DataFrame': no numeric data to plot",
     "output_type": "error",
     "traceback": [
      "\u001b[0;31m---------------------------------------------------------------------------\u001b[0m",
      "\u001b[0;31mTypeError\u001b[0m                                 Traceback (most recent call last)",
      "\u001b[0;32m<ipython-input-51-77ed58f93b5a>\u001b[0m in \u001b[0;36m<module>\u001b[0;34m\u001b[0m\n\u001b[1;32m      3\u001b[0m \u001b[0;32mfor\u001b[0m \u001b[0mnumber\u001b[0m \u001b[0;32min\u001b[0m \u001b[0mlst\u001b[0m\u001b[0;34m:\u001b[0m\u001b[0;34m\u001b[0m\u001b[0;34m\u001b[0m\u001b[0m\n\u001b[1;32m      4\u001b[0m \u001b[0;34m\u001b[0m\u001b[0m\n\u001b[0;32m----> 5\u001b[0;31m     \u001b[0mdf\u001b[0m\u001b[0;34m[\u001b[0m\u001b[0mdf\u001b[0m\u001b[0;34m.\u001b[0m\u001b[0mperson\u001b[0m \u001b[0;34m==\u001b[0m \u001b[0;34mf'{number}'\u001b[0m\u001b[0;34m]\u001b[0m\u001b[0;34m.\u001b[0m\u001b[0mresample\u001b[0m\u001b[0;34m(\u001b[0m\u001b[0;34m'm'\u001b[0m\u001b[0;34m)\u001b[0m\u001b[0;34m.\u001b[0m\u001b[0msum\u001b[0m\u001b[0;34m(\u001b[0m\u001b[0;34m)\u001b[0m\u001b[0;34m.\u001b[0m\u001b[0mplot\u001b[0m\u001b[0;34m(\u001b[0m\u001b[0;34m)\u001b[0m\u001b[0;34m\u001b[0m\u001b[0;34m\u001b[0m\u001b[0m\n\u001b[0m",
      "\u001b[0;32m/usr/local/anaconda3/lib/python3.7/site-packages/pandas/plotting/_core.py\u001b[0m in \u001b[0;36m__call__\u001b[0;34m(self, x, y, kind, ax, subplots, sharex, sharey, layout, figsize, use_index, title, grid, legend, style, logx, logy, loglog, xticks, yticks, xlim, ylim, rot, fontsize, colormap, table, yerr, xerr, secondary_y, sort_columns, **kwds)\u001b[0m\n\u001b[1;32m   2940\u001b[0m                           \u001b[0mfontsize\u001b[0m\u001b[0;34m=\u001b[0m\u001b[0mfontsize\u001b[0m\u001b[0;34m,\u001b[0m \u001b[0mcolormap\u001b[0m\u001b[0;34m=\u001b[0m\u001b[0mcolormap\u001b[0m\u001b[0;34m,\u001b[0m \u001b[0mtable\u001b[0m\u001b[0;34m=\u001b[0m\u001b[0mtable\u001b[0m\u001b[0;34m,\u001b[0m\u001b[0;34m\u001b[0m\u001b[0;34m\u001b[0m\u001b[0m\n\u001b[1;32m   2941\u001b[0m                           \u001b[0myerr\u001b[0m\u001b[0;34m=\u001b[0m\u001b[0myerr\u001b[0m\u001b[0;34m,\u001b[0m \u001b[0mxerr\u001b[0m\u001b[0;34m=\u001b[0m\u001b[0mxerr\u001b[0m\u001b[0;34m,\u001b[0m \u001b[0msecondary_y\u001b[0m\u001b[0;34m=\u001b[0m\u001b[0msecondary_y\u001b[0m\u001b[0;34m,\u001b[0m\u001b[0;34m\u001b[0m\u001b[0;34m\u001b[0m\u001b[0m\n\u001b[0;32m-> 2942\u001b[0;31m                           sort_columns=sort_columns, **kwds)\n\u001b[0m\u001b[1;32m   2943\u001b[0m     \u001b[0m__call__\u001b[0m\u001b[0;34m.\u001b[0m\u001b[0m__doc__\u001b[0m \u001b[0;34m=\u001b[0m \u001b[0mplot_frame\u001b[0m\u001b[0;34m.\u001b[0m\u001b[0m__doc__\u001b[0m\u001b[0;34m\u001b[0m\u001b[0;34m\u001b[0m\u001b[0m\n\u001b[1;32m   2944\u001b[0m \u001b[0;34m\u001b[0m\u001b[0m\n",
      "\u001b[0;32m/usr/local/anaconda3/lib/python3.7/site-packages/pandas/plotting/_core.py\u001b[0m in \u001b[0;36mplot_frame\u001b[0;34m(data, x, y, kind, ax, subplots, sharex, sharey, layout, figsize, use_index, title, grid, legend, style, logx, logy, loglog, xticks, yticks, xlim, ylim, rot, fontsize, colormap, table, yerr, xerr, secondary_y, sort_columns, **kwds)\u001b[0m\n\u001b[1;32m   1971\u001b[0m                  \u001b[0myerr\u001b[0m\u001b[0;34m=\u001b[0m\u001b[0myerr\u001b[0m\u001b[0;34m,\u001b[0m \u001b[0mxerr\u001b[0m\u001b[0;34m=\u001b[0m\u001b[0mxerr\u001b[0m\u001b[0;34m,\u001b[0m\u001b[0;34m\u001b[0m\u001b[0;34m\u001b[0m\u001b[0m\n\u001b[1;32m   1972\u001b[0m                  \u001b[0msecondary_y\u001b[0m\u001b[0;34m=\u001b[0m\u001b[0msecondary_y\u001b[0m\u001b[0;34m,\u001b[0m \u001b[0msort_columns\u001b[0m\u001b[0;34m=\u001b[0m\u001b[0msort_columns\u001b[0m\u001b[0;34m,\u001b[0m\u001b[0;34m\u001b[0m\u001b[0;34m\u001b[0m\u001b[0m\n\u001b[0;32m-> 1973\u001b[0;31m                  **kwds)\n\u001b[0m\u001b[1;32m   1974\u001b[0m \u001b[0;34m\u001b[0m\u001b[0m\n\u001b[1;32m   1975\u001b[0m \u001b[0;34m\u001b[0m\u001b[0m\n",
      "\u001b[0;32m/usr/local/anaconda3/lib/python3.7/site-packages/pandas/plotting/_core.py\u001b[0m in \u001b[0;36m_plot\u001b[0;34m(data, x, y, subplots, ax, kind, **kwds)\u001b[0m\n\u001b[1;32m   1799\u001b[0m         \u001b[0mplot_obj\u001b[0m \u001b[0;34m=\u001b[0m \u001b[0mklass\u001b[0m\u001b[0;34m(\u001b[0m\u001b[0mdata\u001b[0m\u001b[0;34m,\u001b[0m \u001b[0msubplots\u001b[0m\u001b[0;34m=\u001b[0m\u001b[0msubplots\u001b[0m\u001b[0;34m,\u001b[0m \u001b[0max\u001b[0m\u001b[0;34m=\u001b[0m\u001b[0max\u001b[0m\u001b[0;34m,\u001b[0m \u001b[0mkind\u001b[0m\u001b[0;34m=\u001b[0m\u001b[0mkind\u001b[0m\u001b[0;34m,\u001b[0m \u001b[0;34m**\u001b[0m\u001b[0mkwds\u001b[0m\u001b[0;34m)\u001b[0m\u001b[0;34m\u001b[0m\u001b[0;34m\u001b[0m\u001b[0m\n\u001b[1;32m   1800\u001b[0m \u001b[0;34m\u001b[0m\u001b[0m\n\u001b[0;32m-> 1801\u001b[0;31m     \u001b[0mplot_obj\u001b[0m\u001b[0;34m.\u001b[0m\u001b[0mgenerate\u001b[0m\u001b[0;34m(\u001b[0m\u001b[0;34m)\u001b[0m\u001b[0;34m\u001b[0m\u001b[0;34m\u001b[0m\u001b[0m\n\u001b[0m\u001b[1;32m   1802\u001b[0m     \u001b[0mplot_obj\u001b[0m\u001b[0;34m.\u001b[0m\u001b[0mdraw\u001b[0m\u001b[0;34m(\u001b[0m\u001b[0;34m)\u001b[0m\u001b[0;34m\u001b[0m\u001b[0;34m\u001b[0m\u001b[0m\n\u001b[1;32m   1803\u001b[0m     \u001b[0;32mreturn\u001b[0m \u001b[0mplot_obj\u001b[0m\u001b[0;34m.\u001b[0m\u001b[0mresult\u001b[0m\u001b[0;34m\u001b[0m\u001b[0;34m\u001b[0m\u001b[0m\n",
      "\u001b[0;32m/usr/local/anaconda3/lib/python3.7/site-packages/pandas/plotting/_core.py\u001b[0m in \u001b[0;36mgenerate\u001b[0;34m(self)\u001b[0m\n\u001b[1;32m    247\u001b[0m     \u001b[0;32mdef\u001b[0m \u001b[0mgenerate\u001b[0m\u001b[0;34m(\u001b[0m\u001b[0mself\u001b[0m\u001b[0;34m)\u001b[0m\u001b[0;34m:\u001b[0m\u001b[0;34m\u001b[0m\u001b[0;34m\u001b[0m\u001b[0m\n\u001b[1;32m    248\u001b[0m         \u001b[0mself\u001b[0m\u001b[0;34m.\u001b[0m\u001b[0m_args_adjust\u001b[0m\u001b[0;34m(\u001b[0m\u001b[0;34m)\u001b[0m\u001b[0;34m\u001b[0m\u001b[0;34m\u001b[0m\u001b[0m\n\u001b[0;32m--> 249\u001b[0;31m         \u001b[0mself\u001b[0m\u001b[0;34m.\u001b[0m\u001b[0m_compute_plot_data\u001b[0m\u001b[0;34m(\u001b[0m\u001b[0;34m)\u001b[0m\u001b[0;34m\u001b[0m\u001b[0;34m\u001b[0m\u001b[0m\n\u001b[0m\u001b[1;32m    250\u001b[0m         \u001b[0mself\u001b[0m\u001b[0;34m.\u001b[0m\u001b[0m_setup_subplots\u001b[0m\u001b[0;34m(\u001b[0m\u001b[0;34m)\u001b[0m\u001b[0;34m\u001b[0m\u001b[0;34m\u001b[0m\u001b[0m\n\u001b[1;32m    251\u001b[0m         \u001b[0mself\u001b[0m\u001b[0;34m.\u001b[0m\u001b[0m_make_plot\u001b[0m\u001b[0;34m(\u001b[0m\u001b[0;34m)\u001b[0m\u001b[0;34m\u001b[0m\u001b[0;34m\u001b[0m\u001b[0m\n",
      "\u001b[0;32m/usr/local/anaconda3/lib/python3.7/site-packages/pandas/plotting/_core.py\u001b[0m in \u001b[0;36m_compute_plot_data\u001b[0;34m(self)\u001b[0m\n\u001b[1;32m    365\u001b[0m         \u001b[0;32mif\u001b[0m \u001b[0mis_empty\u001b[0m\u001b[0;34m:\u001b[0m\u001b[0;34m\u001b[0m\u001b[0;34m\u001b[0m\u001b[0m\n\u001b[1;32m    366\u001b[0m             raise TypeError('Empty {0!r}: no numeric data to '\n\u001b[0;32m--> 367\u001b[0;31m                             'plot'.format(numeric_data.__class__.__name__))\n\u001b[0m\u001b[1;32m    368\u001b[0m \u001b[0;34m\u001b[0m\u001b[0m\n\u001b[1;32m    369\u001b[0m         \u001b[0mself\u001b[0m\u001b[0;34m.\u001b[0m\u001b[0mdata\u001b[0m \u001b[0;34m=\u001b[0m \u001b[0mnumeric_data\u001b[0m\u001b[0;34m\u001b[0m\u001b[0;34m\u001b[0m\u001b[0m\n",
      "\u001b[0;31mTypeError\u001b[0m: Empty 'DataFrame': no numeric data to plot"
     ]
    }
   ],
   "source": [
    "number = 34\n",
    "\n",
    "for number in lst:\n",
    "    \n",
    "    df[df.person == f'{number}'].resample('m').sum().plot()"
   ]
  },
  {
   "cell_type": "code",
   "execution_count": 49,
   "metadata": {},
   "outputs": [
    {
     "data": {
      "text/plain": [
       "<matplotlib.axes._subplots.AxesSubplot at 0x1a20123f60>"
      ]
     },
     "execution_count": 49,
     "metadata": {},
     "output_type": "execute_result"
    },
    {
     "data": {
      "image/png": "[encoded data removed]",
      "text/plain": [
       "<Figure size 432x288 with 1 Axes>"
      ]
     },
     "metadata": {
      "needs_background": "light"
     },
     "output_type": "display_data"
    }
   ],
   "source": [
    "df['times_accessed'][df.group == 34].resample('m').sum().plot()"
   ]
  },
  {
   "cell_type": "code",
   "execution_count": null,
   "metadata": {},
   "outputs": [],
   "source": []
  }
 ],
 "metadata": {
  "kernelspec": {
   "display_name": "Python 3",
   "language": "python",
   "name": "python3"
  },
  "language_info": {
   "codemirror_mode": {
    "name": "ipython",
    "version": 3
   },
   "file_extension": ".py",
   "mimetype": "text/x-python",
   "name": "python",
   "nbconvert_exporter": "python",
   "pygments_lexer": "ipython3",
   "version": "3.7.3"
  }
 },
 "nbformat": 4,
 "nbformat_minor": 2
}
